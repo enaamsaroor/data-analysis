{
 "cells": [
  {
   "cell_type": "markdown",
   "id": "c0bc62b4-76e6-490c-b304-8d0a510fb954",
   "metadata": {},
   "source": [
    "1-READ file"
   ]
  },
  {
   "cell_type": "code",
   "execution_count": 3,
   "id": "d6e8dcb5-d187-4832-bcc9-142b65f4fdd5",
   "metadata": {},
   "outputs": [],
   "source": [
    "import pandas as pd "
   ]
  },
  {
   "cell_type": "code",
   "execution_count": 5,
   "id": "303ff361-4039-46ae-b148-cd69baba8133",
   "metadata": {},
   "outputs": [],
   "source": [
    "data=pd.read_csv(\"C:/Users/enaam/OneDrive/Desktop/PYTHON/bank_data.csv\")"
   ]
  },
  {
   "cell_type": "code",
   "execution_count": 6,
   "id": "cdae1e70-2809-4990-896f-0a3119a8bdcd",
   "metadata": {},
   "outputs": [
    {
     "data": {
      "text/html": [
       "<div>\n",
       "<style scoped>\n",
       "    .dataframe tbody tr th:only-of-type {\n",
       "        vertical-align: middle;\n",
       "    }\n",
       "\n",
       "    .dataframe tbody tr th {\n",
       "        vertical-align: top;\n",
       "    }\n",
       "\n",
       "    .dataframe thead th {\n",
       "        text-align: right;\n",
       "    }\n",
       "</style>\n",
       "<table border=\"1\" class=\"dataframe\">\n",
       "  <thead>\n",
       "    <tr style=\"text-align: right;\">\n",
       "      <th></th>\n",
       "      <th>TransactionID</th>\n",
       "      <th>CustomerID</th>\n",
       "      <th>CustomerDOB</th>\n",
       "      <th>CusGender</th>\n",
       "      <th>CustLocation</th>\n",
       "      <th>CustAccountBalance</th>\n",
       "      <th>TransactionDate</th>\n",
       "      <th>TransactionTime</th>\n",
       "      <th>TransactionAmount</th>\n",
       "    </tr>\n",
       "  </thead>\n",
       "  <tbody>\n",
       "    <tr>\n",
       "      <th>0</th>\n",
       "      <td>T1</td>\n",
       "      <td>C5841053</td>\n",
       "      <td>10/1/1994</td>\n",
       "      <td>F</td>\n",
       "      <td>JAMSHEDPUR</td>\n",
       "      <td>17819.05</td>\n",
       "      <td>8/2/2016</td>\n",
       "      <td>12:00:00 AM</td>\n",
       "      <td>25.0</td>\n",
       "    </tr>\n",
       "    <tr>\n",
       "      <th>1</th>\n",
       "      <td>T2</td>\n",
       "      <td>C2142763</td>\n",
       "      <td>4/4/1957</td>\n",
       "      <td>M</td>\n",
       "      <td>JHAJJAR</td>\n",
       "      <td>2270.69</td>\n",
       "      <td>8/2/2016</td>\n",
       "      <td>12:00:00 AM</td>\n",
       "      <td>27999.0</td>\n",
       "    </tr>\n",
       "    <tr>\n",
       "      <th>2</th>\n",
       "      <td>T3</td>\n",
       "      <td>C4417068</td>\n",
       "      <td>26/11/1996</td>\n",
       "      <td>F</td>\n",
       "      <td>MUMBAI</td>\n",
       "      <td>17874.44</td>\n",
       "      <td>8/2/2016</td>\n",
       "      <td>12:00:00 AM</td>\n",
       "      <td>459.0</td>\n",
       "    </tr>\n",
       "    <tr>\n",
       "      <th>3</th>\n",
       "      <td>T4</td>\n",
       "      <td>C5342380</td>\n",
       "      <td>14/09/1973</td>\n",
       "      <td>F</td>\n",
       "      <td>MUMBAI</td>\n",
       "      <td>866503.21</td>\n",
       "      <td>8/2/2016</td>\n",
       "      <td>12:00:00 AM</td>\n",
       "      <td>2060.0</td>\n",
       "    </tr>\n",
       "    <tr>\n",
       "      <th>4</th>\n",
       "      <td>T5</td>\n",
       "      <td>C9031234</td>\n",
       "      <td>24/03/1988</td>\n",
       "      <td>F</td>\n",
       "      <td>NAVI MUMBAI</td>\n",
       "      <td>6714.43</td>\n",
       "      <td>8/2/2016</td>\n",
       "      <td>12:00:00 AM</td>\n",
       "      <td>1762.5</td>\n",
       "    </tr>\n",
       "    <tr>\n",
       "      <th>...</th>\n",
       "      <td>...</td>\n",
       "      <td>...</td>\n",
       "      <td>...</td>\n",
       "      <td>...</td>\n",
       "      <td>...</td>\n",
       "      <td>...</td>\n",
       "      <td>...</td>\n",
       "      <td>...</td>\n",
       "      <td>...</td>\n",
       "    </tr>\n",
       "    <tr>\n",
       "      <th>35123</th>\n",
       "      <td>T35124</td>\n",
       "      <td>C5923939</td>\n",
       "      <td>20/07/1990</td>\n",
       "      <td>M</td>\n",
       "      <td>NOIDA</td>\n",
       "      <td>214.39</td>\n",
       "      <td>NaN</td>\n",
       "      <td>12:00:00 AM</td>\n",
       "      <td>102.0</td>\n",
       "    </tr>\n",
       "    <tr>\n",
       "      <th>35124</th>\n",
       "      <td>T35125</td>\n",
       "      <td>C5642844</td>\n",
       "      <td>4/11/1989</td>\n",
       "      <td>F</td>\n",
       "      <td>THIRUVANANTHAPURAM</td>\n",
       "      <td>219310.56</td>\n",
       "      <td>NaN</td>\n",
       "      <td>12:00:00 AM</td>\n",
       "      <td>170.0</td>\n",
       "    </tr>\n",
       "    <tr>\n",
       "      <th>35125</th>\n",
       "      <td>T35126</td>\n",
       "      <td>C4342918</td>\n",
       "      <td>13/04/1993</td>\n",
       "      <td>M</td>\n",
       "      <td>JAMNAGAR</td>\n",
       "      <td>359.01</td>\n",
       "      <td>NaN</td>\n",
       "      <td>12:00:00 AM</td>\n",
       "      <td>2639.0</td>\n",
       "    </tr>\n",
       "    <tr>\n",
       "      <th>35126</th>\n",
       "      <td>T35127</td>\n",
       "      <td>C5329273</td>\n",
       "      <td>18/06/1988</td>\n",
       "      <td>F</td>\n",
       "      <td>LUCKNOW</td>\n",
       "      <td>52524.61</td>\n",
       "      <td>NaN</td>\n",
       "      <td>12:00:00 AM</td>\n",
       "      <td>163.0</td>\n",
       "    </tr>\n",
       "    <tr>\n",
       "      <th>35127</th>\n",
       "      <td>T35128</td>\n",
       "      <td>C6714728</td>\n",
       "      <td>Oct-00</td>\n",
       "      <td>NaN</td>\n",
       "      <td>NaN</td>\n",
       "      <td>NaN</td>\n",
       "      <td>NaN</td>\n",
       "      <td>NaN</td>\n",
       "      <td>NaN</td>\n",
       "    </tr>\n",
       "  </tbody>\n",
       "</table>\n",
       "<p>35128 rows × 9 columns</p>\n",
       "</div>"
      ],
      "text/plain": [
       "      TransactionID CustomerID CustomerDOB CusGender        CustLocation  \\\n",
       "0                T1   C5841053   10/1/1994         F          JAMSHEDPUR   \n",
       "1                T2   C2142763    4/4/1957         M             JHAJJAR   \n",
       "2                T3   C4417068  26/11/1996         F              MUMBAI   \n",
       "3                T4   C5342380  14/09/1973         F              MUMBAI   \n",
       "4                T5   C9031234  24/03/1988         F         NAVI MUMBAI   \n",
       "...             ...        ...         ...       ...                 ...   \n",
       "35123        T35124   C5923939  20/07/1990         M               NOIDA   \n",
       "35124        T35125   C5642844   4/11/1989         F  THIRUVANANTHAPURAM   \n",
       "35125        T35126   C4342918  13/04/1993         M            JAMNAGAR   \n",
       "35126        T35127   C5329273  18/06/1988         F             LUCKNOW   \n",
       "35127        T35128   C6714728      Oct-00       NaN                 NaN   \n",
       "\n",
       "       CustAccountBalance  TransactionDate TransactionTime  TransactionAmount  \n",
       "0                17819.05         8/2/2016     12:00:00 AM               25.0  \n",
       "1                 2270.69         8/2/2016     12:00:00 AM            27999.0  \n",
       "2                17874.44         8/2/2016     12:00:00 AM              459.0  \n",
       "3               866503.21         8/2/2016     12:00:00 AM             2060.0  \n",
       "4                 6714.43         8/2/2016     12:00:00 AM             1762.5  \n",
       "...                    ...             ...             ...                ...  \n",
       "35123              214.39              NaN     12:00:00 AM              102.0  \n",
       "35124           219310.56              NaN     12:00:00 AM              170.0  \n",
       "35125              359.01              NaN     12:00:00 AM             2639.0  \n",
       "35126            52524.61              NaN     12:00:00 AM              163.0  \n",
       "35127                  NaN             NaN             NaN                NaN  \n",
       "\n",
       "[35128 rows x 9 columns]"
      ]
     },
     "execution_count": 6,
     "metadata": {},
     "output_type": "execute_result"
    }
   ],
   "source": [
    "data"
   ]
  },
  {
   "cell_type": "code",
   "execution_count": 8,
   "id": "3b36e489-4159-400b-aabe-5f6e7da3190d",
   "metadata": {},
   "outputs": [
    {
     "data": {
      "text/plain": [
       "TransactionID            object\n",
       "CustomerID               object\n",
       "CustomerDOB              object\n",
       "CusGender                object\n",
       "CustLocation             object\n",
       " CustAccountBalance      object\n",
       "TransactionDate          object\n",
       "TransactionTime          object\n",
       "TransactionAmount       float64\n",
       "dtype: object"
      ]
     },
     "execution_count": 8,
     "metadata": {},
     "output_type": "execute_result"
    }
   ],
   "source": [
    "data.dtypes"
   ]
  },
  {
   "cell_type": "markdown",
   "id": "f85ff13d-160e-488e-a357-508d26955b7f",
   "metadata": {},
   "source": [
    "2-\"get the first five record\" "
   ]
  },
  {
   "cell_type": "code",
   "execution_count": 12,
   "id": "463932b1-7221-4c04-afcd-89510230e514",
   "metadata": {},
   "outputs": [
    {
     "data": {
      "text/html": [
       "<div>\n",
       "<style scoped>\n",
       "    .dataframe tbody tr th:only-of-type {\n",
       "        vertical-align: middle;\n",
       "    }\n",
       "\n",
       "    .dataframe tbody tr th {\n",
       "        vertical-align: top;\n",
       "    }\n",
       "\n",
       "    .dataframe thead th {\n",
       "        text-align: right;\n",
       "    }\n",
       "</style>\n",
       "<table border=\"1\" class=\"dataframe\">\n",
       "  <thead>\n",
       "    <tr style=\"text-align: right;\">\n",
       "      <th></th>\n",
       "      <th>TransactionID</th>\n",
       "      <th>CustomerID</th>\n",
       "      <th>CustomerDOB</th>\n",
       "      <th>CusGender</th>\n",
       "      <th>CustLocation</th>\n",
       "      <th>CustAccountBalance</th>\n",
       "      <th>TransactionDate</th>\n",
       "      <th>TransactionTime</th>\n",
       "      <th>TransactionAmount</th>\n",
       "    </tr>\n",
       "  </thead>\n",
       "  <tbody>\n",
       "    <tr>\n",
       "      <th>0</th>\n",
       "      <td>T1</td>\n",
       "      <td>C5841053</td>\n",
       "      <td>10/1/1994</td>\n",
       "      <td>F</td>\n",
       "      <td>JAMSHEDPUR</td>\n",
       "      <td>17819.05</td>\n",
       "      <td>8/2/2016</td>\n",
       "      <td>12:00:00 AM</td>\n",
       "      <td>25.00</td>\n",
       "    </tr>\n",
       "    <tr>\n",
       "      <th>1</th>\n",
       "      <td>T2</td>\n",
       "      <td>C2142763</td>\n",
       "      <td>4/4/1957</td>\n",
       "      <td>M</td>\n",
       "      <td>JHAJJAR</td>\n",
       "      <td>2270.69</td>\n",
       "      <td>8/2/2016</td>\n",
       "      <td>12:00:00 AM</td>\n",
       "      <td>27999.00</td>\n",
       "    </tr>\n",
       "    <tr>\n",
       "      <th>2</th>\n",
       "      <td>T3</td>\n",
       "      <td>C4417068</td>\n",
       "      <td>26/11/1996</td>\n",
       "      <td>F</td>\n",
       "      <td>MUMBAI</td>\n",
       "      <td>17874.44</td>\n",
       "      <td>8/2/2016</td>\n",
       "      <td>12:00:00 AM</td>\n",
       "      <td>459.00</td>\n",
       "    </tr>\n",
       "    <tr>\n",
       "      <th>3</th>\n",
       "      <td>T4</td>\n",
       "      <td>C5342380</td>\n",
       "      <td>14/09/1973</td>\n",
       "      <td>F</td>\n",
       "      <td>MUMBAI</td>\n",
       "      <td>866503.21</td>\n",
       "      <td>8/2/2016</td>\n",
       "      <td>12:00:00 AM</td>\n",
       "      <td>2060.00</td>\n",
       "    </tr>\n",
       "    <tr>\n",
       "      <th>4</th>\n",
       "      <td>T5</td>\n",
       "      <td>C9031234</td>\n",
       "      <td>24/03/1988</td>\n",
       "      <td>F</td>\n",
       "      <td>NAVI MUMBAI</td>\n",
       "      <td>6714.43</td>\n",
       "      <td>8/2/2016</td>\n",
       "      <td>12:00:00 AM</td>\n",
       "      <td>1762.50</td>\n",
       "    </tr>\n",
       "    <tr>\n",
       "      <th>5</th>\n",
       "      <td>T6</td>\n",
       "      <td>C1536588</td>\n",
       "      <td>8/10/1972</td>\n",
       "      <td>F</td>\n",
       "      <td>ITANAGAR</td>\n",
       "      <td>53609.20</td>\n",
       "      <td>8/2/2016</td>\n",
       "      <td>12:00:00 AM</td>\n",
       "      <td>676.00</td>\n",
       "    </tr>\n",
       "    <tr>\n",
       "      <th>6</th>\n",
       "      <td>T7</td>\n",
       "      <td>C7126560</td>\n",
       "      <td>26/01/1992</td>\n",
       "      <td>F</td>\n",
       "      <td>MUMBAI</td>\n",
       "      <td>973.46</td>\n",
       "      <td>8/2/2016</td>\n",
       "      <td>12:00:00 AM</td>\n",
       "      <td>566.00</td>\n",
       "    </tr>\n",
       "    <tr>\n",
       "      <th>7</th>\n",
       "      <td>T8</td>\n",
       "      <td>C1220223</td>\n",
       "      <td>27/01/1982</td>\n",
       "      <td>M</td>\n",
       "      <td>MUMBAI</td>\n",
       "      <td>95075.54</td>\n",
       "      <td>8/2/2016</td>\n",
       "      <td>12:00:00 AM</td>\n",
       "      <td>148.00</td>\n",
       "    </tr>\n",
       "    <tr>\n",
       "      <th>8</th>\n",
       "      <td>T9</td>\n",
       "      <td>C8536061</td>\n",
       "      <td>19/04/1988</td>\n",
       "      <td>F</td>\n",
       "      <td>GURGAON</td>\n",
       "      <td>14906.96</td>\n",
       "      <td>8/2/2016</td>\n",
       "      <td>12:00:00 AM</td>\n",
       "      <td>833.00</td>\n",
       "    </tr>\n",
       "    <tr>\n",
       "      <th>9</th>\n",
       "      <td>T10</td>\n",
       "      <td>C6638934</td>\n",
       "      <td>22/06/1984</td>\n",
       "      <td>M</td>\n",
       "      <td>MUMBAI</td>\n",
       "      <td>4279.22</td>\n",
       "      <td>8/2/2016</td>\n",
       "      <td>12:00:00 AM</td>\n",
       "      <td>289.11</td>\n",
       "    </tr>\n",
       "    <tr>\n",
       "      <th>10</th>\n",
       "      <td>T11</td>\n",
       "      <td>C5430833</td>\n",
       "      <td>22/07/1982</td>\n",
       "      <td>M</td>\n",
       "      <td>MOHALI</td>\n",
       "      <td>48429.49</td>\n",
       "      <td>8/2/2016</td>\n",
       "      <td>12:00:00 AM</td>\n",
       "      <td>259.00</td>\n",
       "    </tr>\n",
       "    <tr>\n",
       "      <th>11</th>\n",
       "      <td>T12</td>\n",
       "      <td>C6939838</td>\n",
       "      <td>7/7/1988</td>\n",
       "      <td>M</td>\n",
       "      <td>GUNTUR</td>\n",
       "      <td>14613.46</td>\n",
       "      <td>8/2/2016</td>\n",
       "      <td>12:00:00 AM</td>\n",
       "      <td>202.00</td>\n",
       "    </tr>\n",
       "    <tr>\n",
       "      <th>12</th>\n",
       "      <td>T13</td>\n",
       "      <td>C6339347</td>\n",
       "      <td>13/06/1978</td>\n",
       "      <td>M</td>\n",
       "      <td>AHMEDABAD</td>\n",
       "      <td>32274.78</td>\n",
       "      <td>8/2/2016</td>\n",
       "      <td>12:00:00 AM</td>\n",
       "      <td>12300.00</td>\n",
       "    </tr>\n",
       "    <tr>\n",
       "      <th>13</th>\n",
       "      <td>T14</td>\n",
       "      <td>C8327851</td>\n",
       "      <td>5/1/1992</td>\n",
       "      <td>F</td>\n",
       "      <td>THANE</td>\n",
       "      <td>59950.44</td>\n",
       "      <td>8/1/2016</td>\n",
       "      <td>12:00:00 AM</td>\n",
       "      <td>50.00</td>\n",
       "    </tr>\n",
       "    <tr>\n",
       "      <th>14</th>\n",
       "      <td>T15</td>\n",
       "      <td>C7917151</td>\n",
       "      <td>24/03/1978</td>\n",
       "      <td>M</td>\n",
       "      <td>PUNE</td>\n",
       "      <td>10100.84</td>\n",
       "      <td>8/1/2016</td>\n",
       "      <td>12:00:00 AM</td>\n",
       "      <td>338.00</td>\n",
       "    </tr>\n",
       "    <tr>\n",
       "      <th>15</th>\n",
       "      <td>T16</td>\n",
       "      <td>C8334633</td>\n",
       "      <td>10/7/1968</td>\n",
       "      <td>F</td>\n",
       "      <td>NEW DELHI</td>\n",
       "      <td>1283.12</td>\n",
       "      <td>8/1/2016</td>\n",
       "      <td>12:00:00 AM</td>\n",
       "      <td>250.00</td>\n",
       "    </tr>\n",
       "    <tr>\n",
       "      <th>16</th>\n",
       "      <td>T17</td>\n",
       "      <td>C1376215</td>\n",
       "      <td>1/1/1800</td>\n",
       "      <td>M</td>\n",
       "      <td>MUMBAI</td>\n",
       "      <td>77495.15</td>\n",
       "      <td>8/1/2016</td>\n",
       "      <td>12:00:00 AM</td>\n",
       "      <td>1423.11</td>\n",
       "    </tr>\n",
       "    <tr>\n",
       "      <th>17</th>\n",
       "      <td>T18</td>\n",
       "      <td>C8967349</td>\n",
       "      <td>16/07/1989</td>\n",
       "      <td>M</td>\n",
       "      <td>MUMBAI</td>\n",
       "      <td>2177.85</td>\n",
       "      <td>8/1/2016</td>\n",
       "      <td>12:00:00 AM</td>\n",
       "      <td>54.00</td>\n",
       "    </tr>\n",
       "    <tr>\n",
       "      <th>18</th>\n",
       "      <td>T19</td>\n",
       "      <td>C3732016</td>\n",
       "      <td>11/1/1991</td>\n",
       "      <td>M</td>\n",
       "      <td>MUMBAI</td>\n",
       "      <td>32816.17</td>\n",
       "      <td>8/1/2016</td>\n",
       "      <td>12:00:00 AM</td>\n",
       "      <td>315.00</td>\n",
       "    </tr>\n",
       "    <tr>\n",
       "      <th>19</th>\n",
       "      <td>T20</td>\n",
       "      <td>C8999019</td>\n",
       "      <td>24/06/1985</td>\n",
       "      <td>M</td>\n",
       "      <td>PUNE</td>\n",
       "      <td>10643.50</td>\n",
       "      <td>8/1/2016</td>\n",
       "      <td>12:00:00 AM</td>\n",
       "      <td>945.00</td>\n",
       "    </tr>\n",
       "  </tbody>\n",
       "</table>\n",
       "</div>"
      ],
      "text/plain": [
       "   TransactionID CustomerID CustomerDOB CusGender CustLocation  \\\n",
       "0             T1   C5841053   10/1/1994         F   JAMSHEDPUR   \n",
       "1             T2   C2142763    4/4/1957         M      JHAJJAR   \n",
       "2             T3   C4417068  26/11/1996         F       MUMBAI   \n",
       "3             T4   C5342380  14/09/1973         F       MUMBAI   \n",
       "4             T5   C9031234  24/03/1988         F  NAVI MUMBAI   \n",
       "5             T6   C1536588   8/10/1972         F     ITANAGAR   \n",
       "6             T7   C7126560  26/01/1992         F       MUMBAI   \n",
       "7             T8   C1220223  27/01/1982         M       MUMBAI   \n",
       "8             T9   C8536061  19/04/1988         F      GURGAON   \n",
       "9            T10   C6638934  22/06/1984         M       MUMBAI   \n",
       "10           T11   C5430833  22/07/1982         M       MOHALI   \n",
       "11           T12   C6939838    7/7/1988         M       GUNTUR   \n",
       "12           T13   C6339347  13/06/1978         M    AHMEDABAD   \n",
       "13           T14   C8327851    5/1/1992         F        THANE   \n",
       "14           T15   C7917151  24/03/1978         M         PUNE   \n",
       "15           T16   C8334633   10/7/1968         F    NEW DELHI   \n",
       "16           T17   C1376215    1/1/1800         M       MUMBAI   \n",
       "17           T18   C8967349  16/07/1989         M       MUMBAI   \n",
       "18           T19   C3732016   11/1/1991         M       MUMBAI   \n",
       "19           T20   C8999019  24/06/1985         M         PUNE   \n",
       "\n",
       "    CustAccountBalance  TransactionDate TransactionTime  TransactionAmount  \n",
       "0             17819.05         8/2/2016     12:00:00 AM              25.00  \n",
       "1              2270.69         8/2/2016     12:00:00 AM           27999.00  \n",
       "2             17874.44         8/2/2016     12:00:00 AM             459.00  \n",
       "3            866503.21         8/2/2016     12:00:00 AM            2060.00  \n",
       "4              6714.43         8/2/2016     12:00:00 AM            1762.50  \n",
       "5             53609.20         8/2/2016     12:00:00 AM             676.00  \n",
       "6               973.46         8/2/2016     12:00:00 AM             566.00  \n",
       "7             95075.54         8/2/2016     12:00:00 AM             148.00  \n",
       "8             14906.96         8/2/2016     12:00:00 AM             833.00  \n",
       "9              4279.22         8/2/2016     12:00:00 AM             289.11  \n",
       "10            48429.49         8/2/2016     12:00:00 AM             259.00  \n",
       "11            14613.46         8/2/2016     12:00:00 AM             202.00  \n",
       "12            32274.78         8/2/2016     12:00:00 AM           12300.00  \n",
       "13            59950.44         8/1/2016     12:00:00 AM              50.00  \n",
       "14            10100.84         8/1/2016     12:00:00 AM             338.00  \n",
       "15             1283.12         8/1/2016     12:00:00 AM             250.00  \n",
       "16            77495.15         8/1/2016     12:00:00 AM            1423.11  \n",
       "17             2177.85         8/1/2016     12:00:00 AM              54.00  \n",
       "18            32816.17         8/1/2016     12:00:00 AM             315.00  \n",
       "19            10643.50         8/1/2016     12:00:00 AM             945.00  "
      ]
     },
     "execution_count": 12,
     "metadata": {},
     "output_type": "execute_result"
    }
   ],
   "source": [
    "data.head(20)"
   ]
  },
  {
   "cell_type": "markdown",
   "id": "bb3c374a-78de-4d78-a4c7-dae9b2360842",
   "metadata": {},
   "source": [
    "3- convert the transaction date column  to datetime format"
   ]
  },
  {
   "cell_type": "code",
   "execution_count": 15,
   "id": "75035a15-4638-41bb-a4b7-786159422430",
   "metadata": {},
   "outputs": [
    {
     "data": {
      "text/plain": [
       "TransactionID            object\n",
       "CustomerID               object\n",
       "CustomerDOB              object\n",
       "CusGender                object\n",
       "CustLocation             object\n",
       " CustAccountBalance      object\n",
       "TransactionDate          object\n",
       "TransactionTime          object\n",
       "TransactionAmount       float64\n",
       "dtype: object"
      ]
     },
     "execution_count": 15,
     "metadata": {},
     "output_type": "execute_result"
    }
   ],
   "source": [
    "data.dtypes"
   ]
  },
  {
   "cell_type": "code",
   "execution_count": 17,
   "id": "5d20195d-ce07-48ee-b526-a039790fd74a",
   "metadata": {},
   "outputs": [],
   "source": [
    "data['TransactionDate']=pd.to_datetime(data['TransactionDate'])"
   ]
  },
  {
   "cell_type": "code",
   "execution_count": 19,
   "id": "c317273f-ebe5-4b43-8ac2-fb7da7bf833b",
   "metadata": {},
   "outputs": [
    {
     "data": {
      "text/plain": [
       "TransactionID                   object\n",
       "CustomerID                      object\n",
       "CustomerDOB                     object\n",
       "CusGender                       object\n",
       "CustLocation                    object\n",
       " CustAccountBalance             object\n",
       "TransactionDate         datetime64[ns]\n",
       "TransactionTime                 object\n",
       "TransactionAmount              float64\n",
       "dtype: object"
      ]
     },
     "execution_count": 19,
     "metadata": {},
     "output_type": "execute_result"
    }
   ],
   "source": [
    "data.dtypes"
   ]
  },
  {
   "cell_type": "code",
   "execution_count": 21,
   "id": "56ed24a3-35af-4195-be9f-5e7d10256f33",
   "metadata": {},
   "outputs": [
    {
     "data": {
      "text/html": [
       "<div>\n",
       "<style scoped>\n",
       "    .dataframe tbody tr th:only-of-type {\n",
       "        vertical-align: middle;\n",
       "    }\n",
       "\n",
       "    .dataframe tbody tr th {\n",
       "        vertical-align: top;\n",
       "    }\n",
       "\n",
       "    .dataframe thead th {\n",
       "        text-align: right;\n",
       "    }\n",
       "</style>\n",
       "<table border=\"1\" class=\"dataframe\">\n",
       "  <thead>\n",
       "    <tr style=\"text-align: right;\">\n",
       "      <th></th>\n",
       "      <th>TransactionID</th>\n",
       "      <th>CustomerID</th>\n",
       "      <th>CustomerDOB</th>\n",
       "      <th>CusGender</th>\n",
       "      <th>CustLocation</th>\n",
       "      <th>CustAccountBalance</th>\n",
       "      <th>TransactionDate</th>\n",
       "      <th>TransactionTime</th>\n",
       "      <th>TransactionAmount</th>\n",
       "    </tr>\n",
       "  </thead>\n",
       "  <tbody>\n",
       "    <tr>\n",
       "      <th>0</th>\n",
       "      <td>T1</td>\n",
       "      <td>C5841053</td>\n",
       "      <td>10/1/1994</td>\n",
       "      <td>F</td>\n",
       "      <td>JAMSHEDPUR</td>\n",
       "      <td>17819.05</td>\n",
       "      <td>2016-08-02</td>\n",
       "      <td>12:00:00 AM</td>\n",
       "      <td>25.0</td>\n",
       "    </tr>\n",
       "    <tr>\n",
       "      <th>1</th>\n",
       "      <td>T2</td>\n",
       "      <td>C2142763</td>\n",
       "      <td>4/4/1957</td>\n",
       "      <td>M</td>\n",
       "      <td>JHAJJAR</td>\n",
       "      <td>2270.69</td>\n",
       "      <td>2016-08-02</td>\n",
       "      <td>12:00:00 AM</td>\n",
       "      <td>27999.0</td>\n",
       "    </tr>\n",
       "    <tr>\n",
       "      <th>2</th>\n",
       "      <td>T3</td>\n",
       "      <td>C4417068</td>\n",
       "      <td>26/11/1996</td>\n",
       "      <td>F</td>\n",
       "      <td>MUMBAI</td>\n",
       "      <td>17874.44</td>\n",
       "      <td>2016-08-02</td>\n",
       "      <td>12:00:00 AM</td>\n",
       "      <td>459.0</td>\n",
       "    </tr>\n",
       "    <tr>\n",
       "      <th>3</th>\n",
       "      <td>T4</td>\n",
       "      <td>C5342380</td>\n",
       "      <td>14/09/1973</td>\n",
       "      <td>F</td>\n",
       "      <td>MUMBAI</td>\n",
       "      <td>866503.21</td>\n",
       "      <td>2016-08-02</td>\n",
       "      <td>12:00:00 AM</td>\n",
       "      <td>2060.0</td>\n",
       "    </tr>\n",
       "    <tr>\n",
       "      <th>4</th>\n",
       "      <td>T5</td>\n",
       "      <td>C9031234</td>\n",
       "      <td>24/03/1988</td>\n",
       "      <td>F</td>\n",
       "      <td>NAVI MUMBAI</td>\n",
       "      <td>6714.43</td>\n",
       "      <td>2016-08-02</td>\n",
       "      <td>12:00:00 AM</td>\n",
       "      <td>1762.5</td>\n",
       "    </tr>\n",
       "    <tr>\n",
       "      <th>...</th>\n",
       "      <td>...</td>\n",
       "      <td>...</td>\n",
       "      <td>...</td>\n",
       "      <td>...</td>\n",
       "      <td>...</td>\n",
       "      <td>...</td>\n",
       "      <td>...</td>\n",
       "      <td>...</td>\n",
       "      <td>...</td>\n",
       "    </tr>\n",
       "    <tr>\n",
       "      <th>35123</th>\n",
       "      <td>T35124</td>\n",
       "      <td>C5923939</td>\n",
       "      <td>20/07/1990</td>\n",
       "      <td>M</td>\n",
       "      <td>NOIDA</td>\n",
       "      <td>214.39</td>\n",
       "      <td>NaT</td>\n",
       "      <td>12:00:00 AM</td>\n",
       "      <td>102.0</td>\n",
       "    </tr>\n",
       "    <tr>\n",
       "      <th>35124</th>\n",
       "      <td>T35125</td>\n",
       "      <td>C5642844</td>\n",
       "      <td>4/11/1989</td>\n",
       "      <td>F</td>\n",
       "      <td>THIRUVANANTHAPURAM</td>\n",
       "      <td>219310.56</td>\n",
       "      <td>NaT</td>\n",
       "      <td>12:00:00 AM</td>\n",
       "      <td>170.0</td>\n",
       "    </tr>\n",
       "    <tr>\n",
       "      <th>35125</th>\n",
       "      <td>T35126</td>\n",
       "      <td>C4342918</td>\n",
       "      <td>13/04/1993</td>\n",
       "      <td>M</td>\n",
       "      <td>JAMNAGAR</td>\n",
       "      <td>359.01</td>\n",
       "      <td>NaT</td>\n",
       "      <td>12:00:00 AM</td>\n",
       "      <td>2639.0</td>\n",
       "    </tr>\n",
       "    <tr>\n",
       "      <th>35126</th>\n",
       "      <td>T35127</td>\n",
       "      <td>C5329273</td>\n",
       "      <td>18/06/1988</td>\n",
       "      <td>F</td>\n",
       "      <td>LUCKNOW</td>\n",
       "      <td>52524.61</td>\n",
       "      <td>NaT</td>\n",
       "      <td>12:00:00 AM</td>\n",
       "      <td>163.0</td>\n",
       "    </tr>\n",
       "    <tr>\n",
       "      <th>35127</th>\n",
       "      <td>T35128</td>\n",
       "      <td>C6714728</td>\n",
       "      <td>Oct-00</td>\n",
       "      <td>NaN</td>\n",
       "      <td>NaN</td>\n",
       "      <td>NaN</td>\n",
       "      <td>NaT</td>\n",
       "      <td>NaN</td>\n",
       "      <td>NaN</td>\n",
       "    </tr>\n",
       "  </tbody>\n",
       "</table>\n",
       "<p>35128 rows × 9 columns</p>\n",
       "</div>"
      ],
      "text/plain": [
       "      TransactionID CustomerID CustomerDOB CusGender        CustLocation  \\\n",
       "0                T1   C5841053   10/1/1994         F          JAMSHEDPUR   \n",
       "1                T2   C2142763    4/4/1957         M             JHAJJAR   \n",
       "2                T3   C4417068  26/11/1996         F              MUMBAI   \n",
       "3                T4   C5342380  14/09/1973         F              MUMBAI   \n",
       "4                T5   C9031234  24/03/1988         F         NAVI MUMBAI   \n",
       "...             ...        ...         ...       ...                 ...   \n",
       "35123        T35124   C5923939  20/07/1990         M               NOIDA   \n",
       "35124        T35125   C5642844   4/11/1989         F  THIRUVANANTHAPURAM   \n",
       "35125        T35126   C4342918  13/04/1993         M            JAMNAGAR   \n",
       "35126        T35127   C5329273  18/06/1988         F             LUCKNOW   \n",
       "35127        T35128   C6714728      Oct-00       NaN                 NaN   \n",
       "\n",
       "       CustAccountBalance  TransactionDate TransactionTime  TransactionAmount  \n",
       "0                17819.05       2016-08-02     12:00:00 AM               25.0  \n",
       "1                 2270.69       2016-08-02     12:00:00 AM            27999.0  \n",
       "2                17874.44       2016-08-02     12:00:00 AM              459.0  \n",
       "3               866503.21       2016-08-02     12:00:00 AM             2060.0  \n",
       "4                 6714.43       2016-08-02     12:00:00 AM             1762.5  \n",
       "...                    ...             ...             ...                ...  \n",
       "35123              214.39              NaT     12:00:00 AM              102.0  \n",
       "35124           219310.56              NaT     12:00:00 AM              170.0  \n",
       "35125              359.01              NaT     12:00:00 AM             2639.0  \n",
       "35126            52524.61              NaT     12:00:00 AM              163.0  \n",
       "35127                  NaN             NaT             NaN                NaN  \n",
       "\n",
       "[35128 rows x 9 columns]"
      ]
     },
     "execution_count": 21,
     "metadata": {},
     "output_type": "execute_result"
    }
   ],
   "source": [
    "data"
   ]
  },
  {
   "cell_type": "markdown",
   "id": "d44948cd-83ea-4547-b5c5-067527520026",
   "metadata": {},
   "source": [
    "4- filter the transaction amount with an amount grater than 1000"
   ]
  },
  {
   "cell_type": "code",
   "execution_count": 24,
   "id": "2fd6938d-018e-43e9-a67e-cb8540e5118d",
   "metadata": {},
   "outputs": [],
   "source": [
    "t=data[data['TransactionAmount']>10000]"
   ]
  },
  {
   "cell_type": "code",
   "execution_count": 26,
   "id": "72d9bd23-228e-4be9-9289-3005754ba08a",
   "metadata": {},
   "outputs": [
    {
     "data": {
      "text/html": [
       "<div>\n",
       "<style scoped>\n",
       "    .dataframe tbody tr th:only-of-type {\n",
       "        vertical-align: middle;\n",
       "    }\n",
       "\n",
       "    .dataframe tbody tr th {\n",
       "        vertical-align: top;\n",
       "    }\n",
       "\n",
       "    .dataframe thead th {\n",
       "        text-align: right;\n",
       "    }\n",
       "</style>\n",
       "<table border=\"1\" class=\"dataframe\">\n",
       "  <thead>\n",
       "    <tr style=\"text-align: right;\">\n",
       "      <th></th>\n",
       "      <th>TransactionID</th>\n",
       "      <th>CustomerID</th>\n",
       "      <th>CustomerDOB</th>\n",
       "      <th>CusGender</th>\n",
       "      <th>CustLocation</th>\n",
       "      <th>CustAccountBalance</th>\n",
       "      <th>TransactionDate</th>\n",
       "      <th>TransactionTime</th>\n",
       "      <th>TransactionAmount</th>\n",
       "    </tr>\n",
       "  </thead>\n",
       "  <tbody>\n",
       "    <tr>\n",
       "      <th>1</th>\n",
       "      <td>T2</td>\n",
       "      <td>C2142763</td>\n",
       "      <td>4/4/1957</td>\n",
       "      <td>M</td>\n",
       "      <td>JHAJJAR</td>\n",
       "      <td>2270.69</td>\n",
       "      <td>2016-08-02</td>\n",
       "      <td>12:00:00 AM</td>\n",
       "      <td>27999.0</td>\n",
       "    </tr>\n",
       "    <tr>\n",
       "      <th>12</th>\n",
       "      <td>T13</td>\n",
       "      <td>C6339347</td>\n",
       "      <td>13/06/1978</td>\n",
       "      <td>M</td>\n",
       "      <td>AHMEDABAD</td>\n",
       "      <td>32274.78</td>\n",
       "      <td>2016-08-02</td>\n",
       "      <td>12:00:00 AM</td>\n",
       "      <td>12300.0</td>\n",
       "    </tr>\n",
       "    <tr>\n",
       "      <th>46</th>\n",
       "      <td>T47</td>\n",
       "      <td>C8934588</td>\n",
       "      <td>23/10/1981</td>\n",
       "      <td>M</td>\n",
       "      <td>JAIPUR</td>\n",
       "      <td>5055.18</td>\n",
       "      <td>2016-08-03</td>\n",
       "      <td>12:00:00 AM</td>\n",
       "      <td>13846.0</td>\n",
       "    </tr>\n",
       "    <tr>\n",
       "      <th>49</th>\n",
       "      <td>T50</td>\n",
       "      <td>C5242591</td>\n",
       "      <td>1/12/1982</td>\n",
       "      <td>M</td>\n",
       "      <td>BURDWAN</td>\n",
       "      <td>22525.66</td>\n",
       "      <td>2016-08-05</td>\n",
       "      <td>12:00:00 AM</td>\n",
       "      <td>27990.0</td>\n",
       "    </tr>\n",
       "    <tr>\n",
       "      <th>137</th>\n",
       "      <td>T138</td>\n",
       "      <td>C4234628</td>\n",
       "      <td>18/03/1988</td>\n",
       "      <td>M</td>\n",
       "      <td>MUMBAI</td>\n",
       "      <td>3186.20</td>\n",
       "      <td>2016-08-04</td>\n",
       "      <td>12:00:00 AM</td>\n",
       "      <td>10885.0</td>\n",
       "    </tr>\n",
       "    <tr>\n",
       "      <th>186</th>\n",
       "      <td>T187</td>\n",
       "      <td>C6323747</td>\n",
       "      <td>10/8/1988</td>\n",
       "      <td>M</td>\n",
       "      <td>DELHI</td>\n",
       "      <td>556731.79</td>\n",
       "      <td>2016-08-08</td>\n",
       "      <td>12:00:00 AM</td>\n",
       "      <td>26991.0</td>\n",
       "    </tr>\n",
       "    <tr>\n",
       "      <th>193</th>\n",
       "      <td>T194</td>\n",
       "      <td>C4325361</td>\n",
       "      <td>1/1/1800</td>\n",
       "      <td>M</td>\n",
       "      <td>KOLKATA</td>\n",
       "      <td>133203.58</td>\n",
       "      <td>2016-08-07</td>\n",
       "      <td>12:00:00 AM</td>\n",
       "      <td>100000.0</td>\n",
       "    </tr>\n",
       "    <tr>\n",
       "      <th>206</th>\n",
       "      <td>T207</td>\n",
       "      <td>C7675278</td>\n",
       "      <td>1/1/1800</td>\n",
       "      <td>M</td>\n",
       "      <td>NOIDA</td>\n",
       "      <td>1867210.51</td>\n",
       "      <td>2016-08-07</td>\n",
       "      <td>12:00:00 AM</td>\n",
       "      <td>137890.0</td>\n",
       "    </tr>\n",
       "    <tr>\n",
       "      <th>245</th>\n",
       "      <td>T246</td>\n",
       "      <td>C4814390</td>\n",
       "      <td>1/10/1971</td>\n",
       "      <td>F</td>\n",
       "      <td>MIRA ROAD E</td>\n",
       "      <td>78122.46</td>\n",
       "      <td>NaT</td>\n",
       "      <td>12:00:00 AM</td>\n",
       "      <td>47290.0</td>\n",
       "    </tr>\n",
       "    <tr>\n",
       "      <th>246</th>\n",
       "      <td>T247</td>\n",
       "      <td>C6437438</td>\n",
       "      <td>22/05/1983</td>\n",
       "      <td>F</td>\n",
       "      <td>BHUBANESHWAR</td>\n",
       "      <td>324551.50</td>\n",
       "      <td>NaT</td>\n",
       "      <td>12:00:00 AM</td>\n",
       "      <td>25000.0</td>\n",
       "    </tr>\n",
       "  </tbody>\n",
       "</table>\n",
       "</div>"
      ],
      "text/plain": [
       "    TransactionID CustomerID CustomerDOB CusGender  CustLocation  \\\n",
       "1              T2   C2142763    4/4/1957         M       JHAJJAR   \n",
       "12            T13   C6339347  13/06/1978         M     AHMEDABAD   \n",
       "46            T47   C8934588  23/10/1981         M        JAIPUR   \n",
       "49            T50   C5242591   1/12/1982         M       BURDWAN   \n",
       "137          T138   C4234628  18/03/1988         M        MUMBAI   \n",
       "186          T187   C6323747   10/8/1988         M         DELHI   \n",
       "193          T194   C4325361    1/1/1800         M       KOLKATA   \n",
       "206          T207   C7675278    1/1/1800         M         NOIDA   \n",
       "245          T246   C4814390   1/10/1971         F   MIRA ROAD E   \n",
       "246          T247   C6437438  22/05/1983         F  BHUBANESHWAR   \n",
       "\n",
       "     CustAccountBalance  TransactionDate TransactionTime  TransactionAmount  \n",
       "1               2270.69       2016-08-02     12:00:00 AM            27999.0  \n",
       "12             32274.78       2016-08-02     12:00:00 AM            12300.0  \n",
       "46              5055.18       2016-08-03     12:00:00 AM            13846.0  \n",
       "49             22525.66       2016-08-05     12:00:00 AM            27990.0  \n",
       "137             3186.20       2016-08-04     12:00:00 AM            10885.0  \n",
       "186           556731.79       2016-08-08     12:00:00 AM            26991.0  \n",
       "193           133203.58       2016-08-07     12:00:00 AM           100000.0  \n",
       "206          1867210.51       2016-08-07     12:00:00 AM           137890.0  \n",
       "245            78122.46              NaT     12:00:00 AM            47290.0  \n",
       "246           324551.50              NaT     12:00:00 AM            25000.0  "
      ]
     },
     "execution_count": 26,
     "metadata": {},
     "output_type": "execute_result"
    }
   ],
   "source": [
    "t.head(10)"
   ]
  },
  {
   "cell_type": "markdown",
   "id": "13e721d5-ed53-48c4-85f7-1f12bb98d327",
   "metadata": {},
   "source": [
    "5- sort trascation amount"
   ]
  },
  {
   "cell_type": "code",
   "execution_count": 29,
   "id": "304965a5-7a45-405e-84bf-ba4892fb490e",
   "metadata": {},
   "outputs": [],
   "source": [
    "s=data.sort_values(by='TransactionAmount',ascending = False)"
   ]
  },
  {
   "cell_type": "code",
   "execution_count": 31,
   "id": "9060ed6c-4b0a-49a6-b7b3-b26f8ce8633a",
   "metadata": {},
   "outputs": [
    {
     "data": {
      "text/html": [
       "<div>\n",
       "<style scoped>\n",
       "    .dataframe tbody tr th:only-of-type {\n",
       "        vertical-align: middle;\n",
       "    }\n",
       "\n",
       "    .dataframe tbody tr th {\n",
       "        vertical-align: top;\n",
       "    }\n",
       "\n",
       "    .dataframe thead th {\n",
       "        text-align: right;\n",
       "    }\n",
       "</style>\n",
       "<table border=\"1\" class=\"dataframe\">\n",
       "  <thead>\n",
       "    <tr style=\"text-align: right;\">\n",
       "      <th></th>\n",
       "      <th>TransactionID</th>\n",
       "      <th>CustomerID</th>\n",
       "      <th>CustomerDOB</th>\n",
       "      <th>CusGender</th>\n",
       "      <th>CustLocation</th>\n",
       "      <th>CustAccountBalance</th>\n",
       "      <th>TransactionDate</th>\n",
       "      <th>TransactionTime</th>\n",
       "      <th>TransactionAmount</th>\n",
       "    </tr>\n",
       "  </thead>\n",
       "  <tbody>\n",
       "    <tr>\n",
       "      <th>31873</th>\n",
       "      <td>T31874</td>\n",
       "      <td>C3412424</td>\n",
       "      <td>NaN</td>\n",
       "      <td>M</td>\n",
       "      <td>NEW DELHI</td>\n",
       "      <td>797654.95</td>\n",
       "      <td>NaT</td>\n",
       "      <td>12:00:00 AM</td>\n",
       "      <td>0.0</td>\n",
       "    </tr>\n",
       "    <tr>\n",
       "      <th>17560</th>\n",
       "      <td>T17561</td>\n",
       "      <td>C3523153</td>\n",
       "      <td>1/1/1800</td>\n",
       "      <td>M</td>\n",
       "      <td>GUJARAT UDWADA</td>\n",
       "      <td>35246.44</td>\n",
       "      <td>NaT</td>\n",
       "      <td>12:00:00 AM</td>\n",
       "      <td>0.0</td>\n",
       "    </tr>\n",
       "    <tr>\n",
       "      <th>25390</th>\n",
       "      <td>T25391</td>\n",
       "      <td>C1918786</td>\n",
       "      <td>21/11/1994</td>\n",
       "      <td>M</td>\n",
       "      <td>MUMBAI</td>\n",
       "      <td>34776.23</td>\n",
       "      <td>NaT</td>\n",
       "      <td>12:00:00 AM</td>\n",
       "      <td>0.0</td>\n",
       "    </tr>\n",
       "    <tr>\n",
       "      <th>12644</th>\n",
       "      <td>T12645</td>\n",
       "      <td>C5451827</td>\n",
       "      <td>6/5/1977</td>\n",
       "      <td>F</td>\n",
       "      <td>DELHI</td>\n",
       "      <td>445212.50</td>\n",
       "      <td>NaT</td>\n",
       "      <td>12:00:00 AM</td>\n",
       "      <td>0.0</td>\n",
       "    </tr>\n",
       "    <tr>\n",
       "      <th>21294</th>\n",
       "      <td>T21295</td>\n",
       "      <td>C8239592</td>\n",
       "      <td>5/1/1987</td>\n",
       "      <td>M</td>\n",
       "      <td>GURGAON</td>\n",
       "      <td>49936.98</td>\n",
       "      <td>NaT</td>\n",
       "      <td>12:00:00 AM</td>\n",
       "      <td>0.0</td>\n",
       "    </tr>\n",
       "    <tr>\n",
       "      <th>2672</th>\n",
       "      <td>T2673</td>\n",
       "      <td>C4397046</td>\n",
       "      <td>13/01/1997</td>\n",
       "      <td>M</td>\n",
       "      <td>MUMBAI</td>\n",
       "      <td>185401.34</td>\n",
       "      <td>NaT</td>\n",
       "      <td>12:00:00 AM</td>\n",
       "      <td>0.0</td>\n",
       "    </tr>\n",
       "    <tr>\n",
       "      <th>4455</th>\n",
       "      <td>T4456</td>\n",
       "      <td>C7434078</td>\n",
       "      <td>2/8/1987</td>\n",
       "      <td>F</td>\n",
       "      <td>GURGAON</td>\n",
       "      <td>146406.58</td>\n",
       "      <td>NaT</td>\n",
       "      <td>12:00:00 AM</td>\n",
       "      <td>0.0</td>\n",
       "    </tr>\n",
       "    <tr>\n",
       "      <th>5232</th>\n",
       "      <td>T5233</td>\n",
       "      <td>C2539539</td>\n",
       "      <td>5/1/1987</td>\n",
       "      <td>M</td>\n",
       "      <td>GURGAON</td>\n",
       "      <td>49936.98</td>\n",
       "      <td>NaT</td>\n",
       "      <td>12:00:00 AM</td>\n",
       "      <td>0.0</td>\n",
       "    </tr>\n",
       "    <tr>\n",
       "      <th>33996</th>\n",
       "      <td>T33997</td>\n",
       "      <td>C4554127</td>\n",
       "      <td>27/04/1986</td>\n",
       "      <td>M</td>\n",
       "      <td>NAVI MUMBAI</td>\n",
       "      <td>20786.14</td>\n",
       "      <td>NaT</td>\n",
       "      <td>12:00:00 AM</td>\n",
       "      <td>0.0</td>\n",
       "    </tr>\n",
       "    <tr>\n",
       "      <th>35127</th>\n",
       "      <td>T35128</td>\n",
       "      <td>C6714728</td>\n",
       "      <td>Oct-00</td>\n",
       "      <td>NaN</td>\n",
       "      <td>NaN</td>\n",
       "      <td>NaN</td>\n",
       "      <td>NaT</td>\n",
       "      <td>NaN</td>\n",
       "      <td>NaN</td>\n",
       "    </tr>\n",
       "  </tbody>\n",
       "</table>\n",
       "</div>"
      ],
      "text/plain": [
       "      TransactionID CustomerID CustomerDOB CusGender    CustLocation  \\\n",
       "31873        T31874   C3412424         NaN         M       NEW DELHI   \n",
       "17560        T17561   C3523153    1/1/1800         M  GUJARAT UDWADA   \n",
       "25390        T25391   C1918786  21/11/1994         M          MUMBAI   \n",
       "12644        T12645   C5451827    6/5/1977         F           DELHI   \n",
       "21294        T21295   C8239592    5/1/1987         M         GURGAON   \n",
       "2672          T2673   C4397046  13/01/1997         M          MUMBAI   \n",
       "4455          T4456   C7434078    2/8/1987         F         GURGAON   \n",
       "5232          T5233   C2539539    5/1/1987         M         GURGAON   \n",
       "33996        T33997   C4554127  27/04/1986         M     NAVI MUMBAI   \n",
       "35127        T35128   C6714728      Oct-00       NaN             NaN   \n",
       "\n",
       "       CustAccountBalance  TransactionDate TransactionTime  TransactionAmount  \n",
       "31873           797654.95              NaT     12:00:00 AM                0.0  \n",
       "17560            35246.44              NaT     12:00:00 AM                0.0  \n",
       "25390            34776.23              NaT     12:00:00 AM                0.0  \n",
       "12644           445212.50              NaT     12:00:00 AM                0.0  \n",
       "21294            49936.98              NaT     12:00:00 AM                0.0  \n",
       "2672            185401.34              NaT     12:00:00 AM                0.0  \n",
       "4455            146406.58              NaT     12:00:00 AM                0.0  \n",
       "5232             49936.98              NaT     12:00:00 AM                0.0  \n",
       "33996            20786.14              NaT     12:00:00 AM                0.0  \n",
       "35127                  NaN             NaT             NaN                NaN  "
      ]
     },
     "execution_count": 31,
     "metadata": {},
     "output_type": "execute_result"
    }
   ],
   "source": [
    "s.tail(10)"
   ]
  },
  {
   "cell_type": "markdown",
   "id": "fcb69a5e-fa97-40d1-9f91-a8d911a7cd7a",
   "metadata": {},
   "source": [
    "6- avarage _CustAccountBalance"
   ]
  },
  {
   "cell_type": "code",
   "execution_count": 34,
   "id": "ca37121b-5d48-4776-b113-a8cca5081fbb",
   "metadata": {},
   "outputs": [
    {
     "ename": "KeyError",
     "evalue": "'CustAccountBalance'",
     "output_type": "error",
     "traceback": [
      "\u001b[1;31m---------------------------------------------------------------------------\u001b[0m",
      "\u001b[1;31mKeyError\u001b[0m                                  Traceback (most recent call last)",
      "File \u001b[1;32m~\\anaconda3\\Lib\\site-packages\\pandas\\core\\indexes\\base.py:3805\u001b[0m, in \u001b[0;36mIndex.get_loc\u001b[1;34m(self, key)\u001b[0m\n\u001b[0;32m   3804\u001b[0m \u001b[38;5;28;01mtry\u001b[39;00m:\n\u001b[1;32m-> 3805\u001b[0m     \u001b[38;5;28;01mreturn\u001b[39;00m \u001b[38;5;28mself\u001b[39m\u001b[38;5;241m.\u001b[39m_engine\u001b[38;5;241m.\u001b[39mget_loc(casted_key)\n\u001b[0;32m   3806\u001b[0m \u001b[38;5;28;01mexcept\u001b[39;00m \u001b[38;5;167;01mKeyError\u001b[39;00m \u001b[38;5;28;01mas\u001b[39;00m err:\n",
      "File \u001b[1;32mindex.pyx:167\u001b[0m, in \u001b[0;36mpandas._libs.index.IndexEngine.get_loc\u001b[1;34m()\u001b[0m\n",
      "File \u001b[1;32mindex.pyx:196\u001b[0m, in \u001b[0;36mpandas._libs.index.IndexEngine.get_loc\u001b[1;34m()\u001b[0m\n",
      "File \u001b[1;32mpandas\\\\_libs\\\\hashtable_class_helper.pxi:7081\u001b[0m, in \u001b[0;36mpandas._libs.hashtable.PyObjectHashTable.get_item\u001b[1;34m()\u001b[0m\n",
      "File \u001b[1;32mpandas\\\\_libs\\\\hashtable_class_helper.pxi:7089\u001b[0m, in \u001b[0;36mpandas._libs.hashtable.PyObjectHashTable.get_item\u001b[1;34m()\u001b[0m\n",
      "\u001b[1;31mKeyError\u001b[0m: 'CustAccountBalance'",
      "\nThe above exception was the direct cause of the following exception:\n",
      "\u001b[1;31mKeyError\u001b[0m                                  Traceback (most recent call last)",
      "Cell \u001b[1;32mIn[34], line 1\u001b[0m\n\u001b[1;32m----> 1\u001b[0m data[\u001b[38;5;124m'\u001b[39m\u001b[38;5;124mCustAccountBalance\u001b[39m\u001b[38;5;124m'\u001b[39m]\u001b[38;5;241m.\u001b[39mmean()\n",
      "File \u001b[1;32m~\\anaconda3\\Lib\\site-packages\\pandas\\core\\frame.py:4102\u001b[0m, in \u001b[0;36mDataFrame.__getitem__\u001b[1;34m(self, key)\u001b[0m\n\u001b[0;32m   4100\u001b[0m \u001b[38;5;28;01mif\u001b[39;00m \u001b[38;5;28mself\u001b[39m\u001b[38;5;241m.\u001b[39mcolumns\u001b[38;5;241m.\u001b[39mnlevels \u001b[38;5;241m>\u001b[39m \u001b[38;5;241m1\u001b[39m:\n\u001b[0;32m   4101\u001b[0m     \u001b[38;5;28;01mreturn\u001b[39;00m \u001b[38;5;28mself\u001b[39m\u001b[38;5;241m.\u001b[39m_getitem_multilevel(key)\n\u001b[1;32m-> 4102\u001b[0m indexer \u001b[38;5;241m=\u001b[39m \u001b[38;5;28mself\u001b[39m\u001b[38;5;241m.\u001b[39mcolumns\u001b[38;5;241m.\u001b[39mget_loc(key)\n\u001b[0;32m   4103\u001b[0m \u001b[38;5;28;01mif\u001b[39;00m is_integer(indexer):\n\u001b[0;32m   4104\u001b[0m     indexer \u001b[38;5;241m=\u001b[39m [indexer]\n",
      "File \u001b[1;32m~\\anaconda3\\Lib\\site-packages\\pandas\\core\\indexes\\base.py:3812\u001b[0m, in \u001b[0;36mIndex.get_loc\u001b[1;34m(self, key)\u001b[0m\n\u001b[0;32m   3807\u001b[0m     \u001b[38;5;28;01mif\u001b[39;00m \u001b[38;5;28misinstance\u001b[39m(casted_key, \u001b[38;5;28mslice\u001b[39m) \u001b[38;5;129;01mor\u001b[39;00m (\n\u001b[0;32m   3808\u001b[0m         \u001b[38;5;28misinstance\u001b[39m(casted_key, abc\u001b[38;5;241m.\u001b[39mIterable)\n\u001b[0;32m   3809\u001b[0m         \u001b[38;5;129;01mand\u001b[39;00m \u001b[38;5;28many\u001b[39m(\u001b[38;5;28misinstance\u001b[39m(x, \u001b[38;5;28mslice\u001b[39m) \u001b[38;5;28;01mfor\u001b[39;00m x \u001b[38;5;129;01min\u001b[39;00m casted_key)\n\u001b[0;32m   3810\u001b[0m     ):\n\u001b[0;32m   3811\u001b[0m         \u001b[38;5;28;01mraise\u001b[39;00m InvalidIndexError(key)\n\u001b[1;32m-> 3812\u001b[0m     \u001b[38;5;28;01mraise\u001b[39;00m \u001b[38;5;167;01mKeyError\u001b[39;00m(key) \u001b[38;5;28;01mfrom\u001b[39;00m \u001b[38;5;21;01merr\u001b[39;00m\n\u001b[0;32m   3813\u001b[0m \u001b[38;5;28;01mexcept\u001b[39;00m \u001b[38;5;167;01mTypeError\u001b[39;00m:\n\u001b[0;32m   3814\u001b[0m     \u001b[38;5;66;03m# If we have a listlike key, _check_indexing_error will raise\u001b[39;00m\n\u001b[0;32m   3815\u001b[0m     \u001b[38;5;66;03m#  InvalidIndexError. Otherwise we fall through and re-raise\u001b[39;00m\n\u001b[0;32m   3816\u001b[0m     \u001b[38;5;66;03m#  the TypeError.\u001b[39;00m\n\u001b[0;32m   3817\u001b[0m     \u001b[38;5;28mself\u001b[39m\u001b[38;5;241m.\u001b[39m_check_indexing_error(key)\n",
      "\u001b[1;31mKeyError\u001b[0m: 'CustAccountBalance'"
     ]
    }
   ],
   "source": [
    "data['CustAccountBalance'].mean()"
   ]
  },
  {
   "cell_type": "code",
   "execution_count": null,
   "id": "9079e3eb-1851-41a8-a76f-9ef8c362ef79",
   "metadata": {},
   "outputs": [],
   "source": [
    "data"
   ]
  },
  {
   "cell_type": "markdown",
   "id": "bf4110ea-3b84-42a7-b697-87999f5ce09b",
   "metadata": {},
   "source": [
    "8-extract from  TransactionTime                 "
   ]
  },
  {
   "cell_type": "code",
   "execution_count": null,
   "id": "c21e790b-f577-454c-86f6-2f08b16cbe9b",
   "metadata": {},
   "outputs": [],
   "source": [
    "data.dtypes"
   ]
  },
  {
   "cell_type": "code",
   "execution_count": null,
   "id": "1a5165b4-7fad-46ef-b7ad-b3175cebf2e3",
   "metadata": {},
   "outputs": [],
   "source": [
    "data['TransactionHour']=data['TransactionTime'].str[:2]"
   ]
  },
  {
   "cell_type": "code",
   "execution_count": null,
   "id": "742e97ca-e63d-446e-b4a4-e19d6308af63",
   "metadata": {},
   "outputs": [],
   "source": [
    "data['TransactionHour']"
   ]
  },
  {
   "cell_type": "code",
   "execution_count": null,
   "id": "4b051657-a807-4802-bd8d-aed15e995f4e",
   "metadata": {},
   "outputs": [],
   "source": [
    "data"
   ]
  },
  {
   "cell_type": "code",
   "execution_count": null,
   "id": "2eb87f5f-98e2-4a81-ade0-8ac3b7f9bcc5",
   "metadata": {},
   "outputs": [],
   "source": [
    "data['TransactionMin']=data['TransactionTime'].str[2:4]\n"
   ]
  },
  {
   "cell_type": "markdown",
   "id": "be1b1c02-73c9-4a60-b8b6-f854011b0571",
   "metadata": {},
   "source": [
    "data"
   ]
  },
  {
   "cell_type": "code",
   "execution_count": null,
   "id": "a02a60fc-2f46-4102-9d73-4b830132d290",
   "metadata": {},
   "outputs": [],
   "source": [
    "data.count()"
   ]
  },
  {
   "cell_type": "code",
   "execution_count": null,
   "id": "b682864c-e860-41fb-8463-882e824d11c3",
   "metadata": {},
   "outputs": [],
   "source": [
    "data['CusGender'].value_counts()"
   ]
  },
  {
   "cell_type": "markdown",
   "id": "4cd3d4f1-d70b-4e71-993d-e4e380de8b0d",
   "metadata": {},
   "source": [
    "5- filter transction 2016"
   ]
  },
  {
   "cell_type": "code",
   "execution_count": null,
   "id": "40bd32a7-72bc-437a-a2e8-be891204289e",
   "metadata": {},
   "outputs": [],
   "source": [
    "data.dtypes"
   ]
  },
  {
   "cell_type": "code",
   "execution_count": null,
   "id": "3c20be30-4bde-4ab2-b007-5bedc44e14e0",
   "metadata": {},
   "outputs": [],
   "source": [
    "data[data['TransactionDate']=='2016-08-02'].head(15)"
   ]
  },
  {
   "cell_type": "markdown",
   "id": "b961147e-01e0-49fd-b184-55be06681483",
   "metadata": {},
   "source": [
    "9- the uniqe value in CustLocation                    "
   ]
  },
  {
   "cell_type": "code",
   "execution_count": null,
   "id": "d7906710-c587-4c15-be46-5fe2655553c6",
   "metadata": {},
   "outputs": [],
   "source": [
    "data['CustLocation'].unique()"
   ]
  },
  {
   "cell_type": "code",
   "execution_count": null,
   "id": "9c712c46-707c-46e5-9a1e-137a0229159a",
   "metadata": {},
   "outputs": [],
   "source": [
    "data['CustLocation'].nunique()"
   ]
  },
  {
   "cell_type": "code",
   "execution_count": null,
   "id": "4f01ceb2-d2ec-4441-9f5e-f331114f38e0",
   "metadata": {},
   "outputs": [],
   "source": [
    "data['TransactionAmount'].max()"
   ]
  },
  {
   "cell_type": "code",
   "execution_count": null,
   "id": "dbad032c-aa83-495a-96e0-cfcd37ab6a52",
   "metadata": {},
   "outputs": [],
   "source": [
    "data['TransactionAmount'].mean()"
   ]
  },
  {
   "cell_type": "markdown",
   "id": "b3925fa0-a347-404f-97d0-e57c62d92bd6",
   "metadata": {},
   "source": [
    "10-group the cuslocation and calculate the sum casamount"
   ]
  },
  {
   "cell_type": "code",
   "execution_count": null,
   "id": "98a39ef1-0143-4ab5-85c8-9f68f6f3655a",
   "metadata": {},
   "outputs": [],
   "source": [
    "total_amount=data.groupby('CustLocation')['TransactionAmount'].sum()"
   ]
  },
  {
   "cell_type": "code",
   "execution_count": null,
   "id": "a5cd168e-493f-4db0-aaa3-7f4225260cbd",
   "metadata": {},
   "outputs": [],
   "source": [
    "total_amount.head()"
   ]
  },
  {
   "cell_type": "markdown",
   "id": "40fa0287-a355-4bc0-a91c-efaa1e4ebf67",
   "metadata": {},
   "source": [
    "11-check for missing value"
   ]
  },
  {
   "cell_type": "code",
   "execution_count": null,
   "id": "7d3724c6-cc92-4f76-abb9-d3f8fde97291",
   "metadata": {},
   "outputs": [],
   "source": [
    "data.isnull().sum()"
   ]
  },
  {
   "cell_type": "markdown",
   "id": "d45e157f-aced-40d7-9ac1-9dd2409b5ff7",
   "metadata": {},
   "source": [
    "12- transaction happend in 2016"
   ]
  },
  {
   "cell_type": "code",
   "execution_count": null,
   "id": "d142f960-1e5f-421d-a63c-cf5998113ee5",
   "metadata": {},
   "outputs": [],
   "source": [
    "data['TransactionDate']"
   ]
  },
  {
   "cell_type": "code",
   "execution_count": null,
   "id": "0dd3e2bf-1207-444a-81ba-2a09b0b3da78",
   "metadata": {},
   "outputs": [],
   "source": [
    "data.dtypes"
   ]
  },
  {
   "cell_type": "code",
   "execution_count": null,
   "id": "fed70a3a-d3f8-43e0-9c6b-f35850f8959d",
   "metadata": {},
   "outputs": [],
   "source": [
    "data['TransactionDate']=pd.to_datetime(data['TransactionDate'])"
   ]
  },
  {
   "cell_type": "code",
   "execution_count": null,
   "id": "c6388b7a-7b82-4c11-acda-d08ae814ae50",
   "metadata": {},
   "outputs": [],
   "source": [
    "data.dtypes"
   ]
  },
  {
   "cell_type": "code",
   "execution_count": null,
   "id": "297c2059-fd47-4043-bbe2-78aae2a30b75",
   "metadata": {},
   "outputs": [],
   "source": [
    "data[data['TransactionDate'].dt.year ==2016].count()['TransactionDate']"
   ]
  },
  {
   "cell_type": "markdown",
   "id": "f83b52f3-b35f-4456-81a2-664778927324",
   "metadata": {},
   "source": [
    "12- rename transactionamount coulmn"
   ]
  },
  {
   "cell_type": "code",
   "execution_count": 103,
   "id": "c7624245-e867-4464-8625-baacc94db80f",
   "metadata": {},
   "outputs": [],
   "source": [
    "data.rename(columns={'TransactionAmount':'TransactionAMOUNT'},inplace=True)"
   ]
  },
  {
   "cell_type": "code",
   "execution_count": 101,
   "id": "44557447-ced1-41ab-8e88-28a60f6f7903",
   "metadata": {},
   "outputs": [
    {
     "data": {
      "text/html": [
       "<div>\n",
       "<style scoped>\n",
       "    .dataframe tbody tr th:only-of-type {\n",
       "        vertical-align: middle;\n",
       "    }\n",
       "\n",
       "    .dataframe tbody tr th {\n",
       "        vertical-align: top;\n",
       "    }\n",
       "\n",
       "    .dataframe thead th {\n",
       "        text-align: right;\n",
       "    }\n",
       "</style>\n",
       "<table border=\"1\" class=\"dataframe\">\n",
       "  <thead>\n",
       "    <tr style=\"text-align: right;\">\n",
       "      <th></th>\n",
       "      <th>TransactionID</th>\n",
       "      <th>CustomerID</th>\n",
       "      <th>CustomerDOB</th>\n",
       "      <th>CusGender</th>\n",
       "      <th>CustLocation</th>\n",
       "      <th>CustAccountBalance</th>\n",
       "      <th>TransactionDate</th>\n",
       "      <th>TransactionTime</th>\n",
       "      <th>TransactionAMOUNT</th>\n",
       "    </tr>\n",
       "  </thead>\n",
       "  <tbody>\n",
       "    <tr>\n",
       "      <th>0</th>\n",
       "      <td>T1</td>\n",
       "      <td>C5841053</td>\n",
       "      <td>10/1/1994</td>\n",
       "      <td>F</td>\n",
       "      <td>JAMSHEDPUR</td>\n",
       "      <td>17819.05</td>\n",
       "      <td>2016-08-02</td>\n",
       "      <td>12:00:00 AM</td>\n",
       "      <td>25.0</td>\n",
       "    </tr>\n",
       "    <tr>\n",
       "      <th>1</th>\n",
       "      <td>T2</td>\n",
       "      <td>C2142763</td>\n",
       "      <td>4/4/1957</td>\n",
       "      <td>M</td>\n",
       "      <td>JHAJJAR</td>\n",
       "      <td>2270.69</td>\n",
       "      <td>2016-08-02</td>\n",
       "      <td>12:00:00 AM</td>\n",
       "      <td>27999.0</td>\n",
       "    </tr>\n",
       "    <tr>\n",
       "      <th>2</th>\n",
       "      <td>T3</td>\n",
       "      <td>C4417068</td>\n",
       "      <td>26/11/1996</td>\n",
       "      <td>F</td>\n",
       "      <td>MUMBAI</td>\n",
       "      <td>17874.44</td>\n",
       "      <td>2016-08-02</td>\n",
       "      <td>12:00:00 AM</td>\n",
       "      <td>459.0</td>\n",
       "    </tr>\n",
       "    <tr>\n",
       "      <th>3</th>\n",
       "      <td>T4</td>\n",
       "      <td>C5342380</td>\n",
       "      <td>14/09/1973</td>\n",
       "      <td>F</td>\n",
       "      <td>MUMBAI</td>\n",
       "      <td>866503.21</td>\n",
       "      <td>2016-08-02</td>\n",
       "      <td>12:00:00 AM</td>\n",
       "      <td>2060.0</td>\n",
       "    </tr>\n",
       "    <tr>\n",
       "      <th>4</th>\n",
       "      <td>T5</td>\n",
       "      <td>C9031234</td>\n",
       "      <td>24/03/1988</td>\n",
       "      <td>F</td>\n",
       "      <td>NAVI MUMBAI</td>\n",
       "      <td>6714.43</td>\n",
       "      <td>2016-08-02</td>\n",
       "      <td>12:00:00 AM</td>\n",
       "      <td>1762.5</td>\n",
       "    </tr>\n",
       "    <tr>\n",
       "      <th>...</th>\n",
       "      <td>...</td>\n",
       "      <td>...</td>\n",
       "      <td>...</td>\n",
       "      <td>...</td>\n",
       "      <td>...</td>\n",
       "      <td>...</td>\n",
       "      <td>...</td>\n",
       "      <td>...</td>\n",
       "      <td>...</td>\n",
       "    </tr>\n",
       "    <tr>\n",
       "      <th>35123</th>\n",
       "      <td>T35124</td>\n",
       "      <td>C5923939</td>\n",
       "      <td>20/07/1990</td>\n",
       "      <td>M</td>\n",
       "      <td>NOIDA</td>\n",
       "      <td>214.39</td>\n",
       "      <td>NaT</td>\n",
       "      <td>12:00:00 AM</td>\n",
       "      <td>102.0</td>\n",
       "    </tr>\n",
       "    <tr>\n",
       "      <th>35124</th>\n",
       "      <td>T35125</td>\n",
       "      <td>C5642844</td>\n",
       "      <td>4/11/1989</td>\n",
       "      <td>F</td>\n",
       "      <td>THIRUVANANTHAPURAM</td>\n",
       "      <td>219310.56</td>\n",
       "      <td>NaT</td>\n",
       "      <td>12:00:00 AM</td>\n",
       "      <td>170.0</td>\n",
       "    </tr>\n",
       "    <tr>\n",
       "      <th>35125</th>\n",
       "      <td>T35126</td>\n",
       "      <td>C4342918</td>\n",
       "      <td>13/04/1993</td>\n",
       "      <td>M</td>\n",
       "      <td>JAMNAGAR</td>\n",
       "      <td>359.01</td>\n",
       "      <td>NaT</td>\n",
       "      <td>12:00:00 AM</td>\n",
       "      <td>2639.0</td>\n",
       "    </tr>\n",
       "    <tr>\n",
       "      <th>35126</th>\n",
       "      <td>T35127</td>\n",
       "      <td>C5329273</td>\n",
       "      <td>18/06/1988</td>\n",
       "      <td>F</td>\n",
       "      <td>LUCKNOW</td>\n",
       "      <td>52524.61</td>\n",
       "      <td>NaT</td>\n",
       "      <td>12:00:00 AM</td>\n",
       "      <td>163.0</td>\n",
       "    </tr>\n",
       "    <tr>\n",
       "      <th>35127</th>\n",
       "      <td>T35128</td>\n",
       "      <td>C6714728</td>\n",
       "      <td>Oct-00</td>\n",
       "      <td>NaN</td>\n",
       "      <td>NaN</td>\n",
       "      <td>NaN</td>\n",
       "      <td>NaT</td>\n",
       "      <td>NaN</td>\n",
       "      <td>NaN</td>\n",
       "    </tr>\n",
       "  </tbody>\n",
       "</table>\n",
       "<p>35128 rows × 9 columns</p>\n",
       "</div>"
      ],
      "text/plain": [
       "      TransactionID CustomerID CustomerDOB CusGender        CustLocation  \\\n",
       "0                T1   C5841053   10/1/1994         F          JAMSHEDPUR   \n",
       "1                T2   C2142763    4/4/1957         M             JHAJJAR   \n",
       "2                T3   C4417068  26/11/1996         F              MUMBAI   \n",
       "3                T4   C5342380  14/09/1973         F              MUMBAI   \n",
       "4                T5   C9031234  24/03/1988         F         NAVI MUMBAI   \n",
       "...             ...        ...         ...       ...                 ...   \n",
       "35123        T35124   C5923939  20/07/1990         M               NOIDA   \n",
       "35124        T35125   C5642844   4/11/1989         F  THIRUVANANTHAPURAM   \n",
       "35125        T35126   C4342918  13/04/1993         M            JAMNAGAR   \n",
       "35126        T35127   C5329273  18/06/1988         F             LUCKNOW   \n",
       "35127        T35128   C6714728      Oct-00       NaN                 NaN   \n",
       "\n",
       "       CustAccountBalance  TransactionDate TransactionTime  TransactionAMOUNT  \n",
       "0                17819.05       2016-08-02     12:00:00 AM               25.0  \n",
       "1                 2270.69       2016-08-02     12:00:00 AM            27999.0  \n",
       "2                17874.44       2016-08-02     12:00:00 AM              459.0  \n",
       "3               866503.21       2016-08-02     12:00:00 AM             2060.0  \n",
       "4                 6714.43       2016-08-02     12:00:00 AM             1762.5  \n",
       "...                    ...             ...             ...                ...  \n",
       "35123              214.39              NaT     12:00:00 AM              102.0  \n",
       "35124           219310.56              NaT     12:00:00 AM              170.0  \n",
       "35125              359.01              NaT     12:00:00 AM             2639.0  \n",
       "35126            52524.61              NaT     12:00:00 AM              163.0  \n",
       "35127                  NaN             NaT             NaN                NaN  \n",
       "\n",
       "[35128 rows x 9 columns]"
      ]
     },
     "execution_count": 101,
     "metadata": {},
     "output_type": "execute_result"
    }
   ],
   "source": [
    "data"
   ]
  },
  {
   "cell_type": "markdown",
   "id": "20d4e4e8-e709-4ecb-819f-d6518bb0cbe5",
   "metadata": {},
   "source": [
    "13-check the duplacte rows"
   ]
  },
  {
   "cell_type": "code",
   "execution_count": null,
   "id": "47b22a8a-836c-457e-be19-9f0bc6f00f7a",
   "metadata": {},
   "outputs": [],
   "source": [
    "data.duplicated().sum()"
   ]
  },
  {
   "cell_type": "code",
   "execution_count": null,
   "id": "62931964-76f0-45e8-8268-66ccc1c80674",
   "metadata": {},
   "outputs": [],
   "source": [
    "data.drop_duplicates(inplace=True)"
   ]
  },
  {
   "cell_type": "markdown",
   "id": "734bb377-e247-4b8e-86fb-dff7e5ce846a",
   "metadata": {},
   "source": [
    "14-select only CustomerID CusGender TransactionAMOUNT coulmns\n"
   ]
  },
  {
   "cell_type": "code",
   "execution_count": 97,
   "id": "5d2b6e5d-7ffc-4113-966a-6667b1a33440",
   "metadata": {},
   "outputs": [
    {
     "ename": "KeyError",
     "evalue": "\"['TransactionAMOUNT'] not in index\"",
     "output_type": "error",
     "traceback": [
      "\u001b[1;31m---------------------------------------------------------------------------\u001b[0m",
      "\u001b[1;31mKeyError\u001b[0m                                  Traceback (most recent call last)",
      "Cell \u001b[1;32mIn[97], line 1\u001b[0m\n\u001b[1;32m----> 1\u001b[0m data[[\u001b[38;5;124m'\u001b[39m\u001b[38;5;124mCustomerID\u001b[39m\u001b[38;5;124m'\u001b[39m,\u001b[38;5;124m'\u001b[39m\u001b[38;5;124mCusGender\u001b[39m\u001b[38;5;124m'\u001b[39m,\u001b[38;5;124m'\u001b[39m\u001b[38;5;124mTransactionAMOUNT\u001b[39m\u001b[38;5;124m'\u001b[39m]]\n",
      "File \u001b[1;32m~\\anaconda3\\Lib\\site-packages\\pandas\\core\\frame.py:4108\u001b[0m, in \u001b[0;36mDataFrame.__getitem__\u001b[1;34m(self, key)\u001b[0m\n\u001b[0;32m   4106\u001b[0m     \u001b[38;5;28;01mif\u001b[39;00m is_iterator(key):\n\u001b[0;32m   4107\u001b[0m         key \u001b[38;5;241m=\u001b[39m \u001b[38;5;28mlist\u001b[39m(key)\n\u001b[1;32m-> 4108\u001b[0m     indexer \u001b[38;5;241m=\u001b[39m \u001b[38;5;28mself\u001b[39m\u001b[38;5;241m.\u001b[39mcolumns\u001b[38;5;241m.\u001b[39m_get_indexer_strict(key, \u001b[38;5;124m\"\u001b[39m\u001b[38;5;124mcolumns\u001b[39m\u001b[38;5;124m\"\u001b[39m)[\u001b[38;5;241m1\u001b[39m]\n\u001b[0;32m   4110\u001b[0m \u001b[38;5;66;03m# take() does not accept boolean indexers\u001b[39;00m\n\u001b[0;32m   4111\u001b[0m \u001b[38;5;28;01mif\u001b[39;00m \u001b[38;5;28mgetattr\u001b[39m(indexer, \u001b[38;5;124m\"\u001b[39m\u001b[38;5;124mdtype\u001b[39m\u001b[38;5;124m\"\u001b[39m, \u001b[38;5;28;01mNone\u001b[39;00m) \u001b[38;5;241m==\u001b[39m \u001b[38;5;28mbool\u001b[39m:\n",
      "File \u001b[1;32m~\\anaconda3\\Lib\\site-packages\\pandas\\core\\indexes\\base.py:6200\u001b[0m, in \u001b[0;36mIndex._get_indexer_strict\u001b[1;34m(self, key, axis_name)\u001b[0m\n\u001b[0;32m   6197\u001b[0m \u001b[38;5;28;01melse\u001b[39;00m:\n\u001b[0;32m   6198\u001b[0m     keyarr, indexer, new_indexer \u001b[38;5;241m=\u001b[39m \u001b[38;5;28mself\u001b[39m\u001b[38;5;241m.\u001b[39m_reindex_non_unique(keyarr)\n\u001b[1;32m-> 6200\u001b[0m \u001b[38;5;28mself\u001b[39m\u001b[38;5;241m.\u001b[39m_raise_if_missing(keyarr, indexer, axis_name)\n\u001b[0;32m   6202\u001b[0m keyarr \u001b[38;5;241m=\u001b[39m \u001b[38;5;28mself\u001b[39m\u001b[38;5;241m.\u001b[39mtake(indexer)\n\u001b[0;32m   6203\u001b[0m \u001b[38;5;28;01mif\u001b[39;00m \u001b[38;5;28misinstance\u001b[39m(key, Index):\n\u001b[0;32m   6204\u001b[0m     \u001b[38;5;66;03m# GH 42790 - Preserve name from an Index\u001b[39;00m\n",
      "File \u001b[1;32m~\\anaconda3\\Lib\\site-packages\\pandas\\core\\indexes\\base.py:6252\u001b[0m, in \u001b[0;36mIndex._raise_if_missing\u001b[1;34m(self, key, indexer, axis_name)\u001b[0m\n\u001b[0;32m   6249\u001b[0m     \u001b[38;5;28;01mraise\u001b[39;00m \u001b[38;5;167;01mKeyError\u001b[39;00m(\u001b[38;5;124mf\u001b[39m\u001b[38;5;124m\"\u001b[39m\u001b[38;5;124mNone of [\u001b[39m\u001b[38;5;132;01m{\u001b[39;00mkey\u001b[38;5;132;01m}\u001b[39;00m\u001b[38;5;124m] are in the [\u001b[39m\u001b[38;5;132;01m{\u001b[39;00maxis_name\u001b[38;5;132;01m}\u001b[39;00m\u001b[38;5;124m]\u001b[39m\u001b[38;5;124m\"\u001b[39m)\n\u001b[0;32m   6251\u001b[0m not_found \u001b[38;5;241m=\u001b[39m \u001b[38;5;28mlist\u001b[39m(ensure_index(key)[missing_mask\u001b[38;5;241m.\u001b[39mnonzero()[\u001b[38;5;241m0\u001b[39m]]\u001b[38;5;241m.\u001b[39munique())\n\u001b[1;32m-> 6252\u001b[0m \u001b[38;5;28;01mraise\u001b[39;00m \u001b[38;5;167;01mKeyError\u001b[39;00m(\u001b[38;5;124mf\u001b[39m\u001b[38;5;124m\"\u001b[39m\u001b[38;5;132;01m{\u001b[39;00mnot_found\u001b[38;5;132;01m}\u001b[39;00m\u001b[38;5;124m not in index\u001b[39m\u001b[38;5;124m\"\u001b[39m)\n",
      "\u001b[1;31mKeyError\u001b[0m: \"['TransactionAMOUNT'] not in index\""
     ]
    }
   ],
   "source": [
    "data[['CustomerID','CusGender','TransactionAMOUNT']]"
   ]
  },
  {
   "cell_type": "code",
   "execution_count": null,
   "id": "30dd77aa-22ce-4dfe-8794-1253fa92d9ac",
   "metadata": {},
   "outputs": [],
   "source": [
    "data[data['CusGender']=='F'].count()"
   ]
  },
  {
   "cell_type": "markdown",
   "id": "8d0b7ac7-5888-411a-98cf-ae4d061cf8c8",
   "metadata": {},
   "source": [
    "13-transaction made after 2016"
   ]
  },
  {
   "cell_type": "code",
   "execution_count": null,
   "id": "6d7899a4-edba-48ad-bad9-8e4612bfc0aa",
   "metadata": {},
   "outputs": [],
   "source": [
    "data.dtypes"
   ]
  },
  {
   "cell_type": "code",
   "execution_count": null,
   "id": "e02ec80c-d408-4f1f-bbf0-042417338939",
   "metadata": {},
   "outputs": [],
   "source": [
    "data['TransactionDate']=pd.to_datetime(data['TransactionDate'])"
   ]
  },
  {
   "cell_type": "code",
   "execution_count": null,
   "id": "73c9117a-8095-44ab-b378-ca07ce63143e",
   "metadata": {},
   "outputs": [],
   "source": [
    "data[data['TransactionDate'] > '2016,08,02'].count()['TransactionDate']"
   ]
  },
  {
   "cell_type": "markdown",
   "id": "d88e5c0c-495c-4f95-a4d5-a0e43f40aab4",
   "metadata": {},
   "source": [
    "14-transaction where the amount between 300 and 600"
   ]
  },
  {
   "cell_type": "code",
   "execution_count": 93,
   "id": "ecb3b8ec-2715-4b94-ac07-e778c0b11384",
   "metadata": {},
   "outputs": [
    {
     "ename": "KeyError",
     "evalue": "'TransactionAMOUNT'",
     "output_type": "error",
     "traceback": [
      "\u001b[1;31m---------------------------------------------------------------------------\u001b[0m",
      "\u001b[1;31mKeyError\u001b[0m                                  Traceback (most recent call last)",
      "File \u001b[1;32m~\\anaconda3\\Lib\\site-packages\\pandas\\core\\indexes\\base.py:3805\u001b[0m, in \u001b[0;36mIndex.get_loc\u001b[1;34m(self, key)\u001b[0m\n\u001b[0;32m   3804\u001b[0m \u001b[38;5;28;01mtry\u001b[39;00m:\n\u001b[1;32m-> 3805\u001b[0m     \u001b[38;5;28;01mreturn\u001b[39;00m \u001b[38;5;28mself\u001b[39m\u001b[38;5;241m.\u001b[39m_engine\u001b[38;5;241m.\u001b[39mget_loc(casted_key)\n\u001b[0;32m   3806\u001b[0m \u001b[38;5;28;01mexcept\u001b[39;00m \u001b[38;5;167;01mKeyError\u001b[39;00m \u001b[38;5;28;01mas\u001b[39;00m err:\n",
      "File \u001b[1;32mindex.pyx:167\u001b[0m, in \u001b[0;36mpandas._libs.index.IndexEngine.get_loc\u001b[1;34m()\u001b[0m\n",
      "File \u001b[1;32mindex.pyx:196\u001b[0m, in \u001b[0;36mpandas._libs.index.IndexEngine.get_loc\u001b[1;34m()\u001b[0m\n",
      "File \u001b[1;32mpandas\\\\_libs\\\\hashtable_class_helper.pxi:7081\u001b[0m, in \u001b[0;36mpandas._libs.hashtable.PyObjectHashTable.get_item\u001b[1;34m()\u001b[0m\n",
      "File \u001b[1;32mpandas\\\\_libs\\\\hashtable_class_helper.pxi:7089\u001b[0m, in \u001b[0;36mpandas._libs.hashtable.PyObjectHashTable.get_item\u001b[1;34m()\u001b[0m\n",
      "\u001b[1;31mKeyError\u001b[0m: 'TransactionAMOUNT'",
      "\nThe above exception was the direct cause of the following exception:\n",
      "\u001b[1;31mKeyError\u001b[0m                                  Traceback (most recent call last)",
      "Cell \u001b[1;32mIn[93], line 1\u001b[0m\n\u001b[1;32m----> 1\u001b[0m data[(data[\u001b[38;5;124m'\u001b[39m\u001b[38;5;124mTransactionAMOUNT\u001b[39m\u001b[38;5;124m'\u001b[39m]\u001b[38;5;241m>\u001b[39m\u001b[38;5;241m300\u001b[39m) \u001b[38;5;241m&\u001b[39m (data[\u001b[38;5;124m'\u001b[39m\u001b[38;5;124mTransactionAMOUNT\u001b[39m\u001b[38;5;124m'\u001b[39m]\u001b[38;5;241m<\u001b[39m\u001b[38;5;241m600\u001b[39m)]\n",
      "File \u001b[1;32m~\\anaconda3\\Lib\\site-packages\\pandas\\core\\frame.py:4102\u001b[0m, in \u001b[0;36mDataFrame.__getitem__\u001b[1;34m(self, key)\u001b[0m\n\u001b[0;32m   4100\u001b[0m \u001b[38;5;28;01mif\u001b[39;00m \u001b[38;5;28mself\u001b[39m\u001b[38;5;241m.\u001b[39mcolumns\u001b[38;5;241m.\u001b[39mnlevels \u001b[38;5;241m>\u001b[39m \u001b[38;5;241m1\u001b[39m:\n\u001b[0;32m   4101\u001b[0m     \u001b[38;5;28;01mreturn\u001b[39;00m \u001b[38;5;28mself\u001b[39m\u001b[38;5;241m.\u001b[39m_getitem_multilevel(key)\n\u001b[1;32m-> 4102\u001b[0m indexer \u001b[38;5;241m=\u001b[39m \u001b[38;5;28mself\u001b[39m\u001b[38;5;241m.\u001b[39mcolumns\u001b[38;5;241m.\u001b[39mget_loc(key)\n\u001b[0;32m   4103\u001b[0m \u001b[38;5;28;01mif\u001b[39;00m is_integer(indexer):\n\u001b[0;32m   4104\u001b[0m     indexer \u001b[38;5;241m=\u001b[39m [indexer]\n",
      "File \u001b[1;32m~\\anaconda3\\Lib\\site-packages\\pandas\\core\\indexes\\base.py:3812\u001b[0m, in \u001b[0;36mIndex.get_loc\u001b[1;34m(self, key)\u001b[0m\n\u001b[0;32m   3807\u001b[0m     \u001b[38;5;28;01mif\u001b[39;00m \u001b[38;5;28misinstance\u001b[39m(casted_key, \u001b[38;5;28mslice\u001b[39m) \u001b[38;5;129;01mor\u001b[39;00m (\n\u001b[0;32m   3808\u001b[0m         \u001b[38;5;28misinstance\u001b[39m(casted_key, abc\u001b[38;5;241m.\u001b[39mIterable)\n\u001b[0;32m   3809\u001b[0m         \u001b[38;5;129;01mand\u001b[39;00m \u001b[38;5;28many\u001b[39m(\u001b[38;5;28misinstance\u001b[39m(x, \u001b[38;5;28mslice\u001b[39m) \u001b[38;5;28;01mfor\u001b[39;00m x \u001b[38;5;129;01min\u001b[39;00m casted_key)\n\u001b[0;32m   3810\u001b[0m     ):\n\u001b[0;32m   3811\u001b[0m         \u001b[38;5;28;01mraise\u001b[39;00m InvalidIndexError(key)\n\u001b[1;32m-> 3812\u001b[0m     \u001b[38;5;28;01mraise\u001b[39;00m \u001b[38;5;167;01mKeyError\u001b[39;00m(key) \u001b[38;5;28;01mfrom\u001b[39;00m \u001b[38;5;21;01merr\u001b[39;00m\n\u001b[0;32m   3813\u001b[0m \u001b[38;5;28;01mexcept\u001b[39;00m \u001b[38;5;167;01mTypeError\u001b[39;00m:\n\u001b[0;32m   3814\u001b[0m     \u001b[38;5;66;03m# If we have a listlike key, _check_indexing_error will raise\u001b[39;00m\n\u001b[0;32m   3815\u001b[0m     \u001b[38;5;66;03m#  InvalidIndexError. Otherwise we fall through and re-raise\u001b[39;00m\n\u001b[0;32m   3816\u001b[0m     \u001b[38;5;66;03m#  the TypeError.\u001b[39;00m\n\u001b[0;32m   3817\u001b[0m     \u001b[38;5;28mself\u001b[39m\u001b[38;5;241m.\u001b[39m_check_indexing_error(key)\n",
      "\u001b[1;31mKeyError\u001b[0m: 'TransactionAMOUNT'"
     ]
    }
   ],
   "source": [
    "data[(data['TransactionAMOUNT']>300) & (data['TransactionAMOUNT']<600)]"
   ]
  },
  {
   "cell_type": "markdown",
   "id": "c37b0044-263a-4ba4-9454-42a5d579cac2",
   "metadata": {},
   "source": [
    "17-filter transaction from spacifi location"
   ]
  },
  {
   "cell_type": "code",
   "execution_count": 74,
   "id": "13b8c2b3-5464-4234-86a4-24117cebd33f",
   "metadata": {},
   "outputs": [
    {
     "data": {
      "text/plain": [
       "6307"
      ]
     },
     "execution_count": 74,
     "metadata": {},
     "output_type": "execute_result"
    }
   ],
   "source": [
    "data[data['CustLocation'].isin(['BANGALORE','MUMBAI'])].count()['CustomerID']"
   ]
  },
  {
   "cell_type": "markdown",
   "id": "39ae4f2a-2c57-40a9-a205-1278212839ef",
   "metadata": {},
   "source": [
    "18-total number of transaction "
   ]
  },
  {
   "cell_type": "code",
   "execution_count": 90,
   "id": "baaebd94-a1e5-4958-9053-48e4f489f836",
   "metadata": {},
   "outputs": [
    {
     "data": {
      "text/plain": [
       "35128"
      ]
     },
     "execution_count": 90,
     "metadata": {},
     "output_type": "execute_result"
    }
   ],
   "source": [
    "data['TransactionID'].count()\n"
   ]
  },
  {
   "cell_type": "markdown",
   "id": "41228056-593b-4ce6-831a-1ad9b1157e40",
   "metadata": {},
   "source": [
    "20-aggregation function and grouping"
   ]
  },
  {
   "cell_type": "code",
   "execution_count": 148,
   "id": "64d1a66d-1a6d-4e50-876d-d3631e110a90",
   "metadata": {},
   "outputs": [],
   "source": [
    "max_trans=data.groupby('CustomerID')['TransactionAMOUNT'].max()"
   ]
  },
  {
   "cell_type": "code",
   "execution_count": 150,
   "id": "fb1bafb1-cd22-4f92-a5e6-4749a069f758",
   "metadata": {},
   "outputs": [
    {
     "data": {
      "text/plain": [
       "CustomerID\n",
       "C1010011    4750.0\n",
       "C1010211    2209.0\n",
       "C1010245     300.0\n",
       "C1010249     263.0\n",
       "C1010266     449.0\n",
       "C1010425     658.0\n",
       "C1010461    1000.0\n",
       "C1010864     500.0\n",
       "C1010876    1054.0\n",
       "C1010930     300.0\n",
       "Name: TransactionAMOUNT, dtype: float64"
      ]
     },
     "execution_count": 150,
     "metadata": {},
     "output_type": "execute_result"
    }
   ],
   "source": [
    "max_trans.head(10)"
   ]
  },
  {
   "cell_type": "code",
   "execution_count": 162,
   "id": "0d2a692d-114b-4a27-aa1c-bb866dbacece",
   "metadata": {},
   "outputs": [],
   "source": [
    "min_trans=data.groupby('CustomerID')['TransactionAMOUNT'].min()"
   ]
  },
  {
   "cell_type": "code",
   "execution_count": 164,
   "id": "841f0014-56f9-4134-a367-dbbf8d1bff64",
   "metadata": {},
   "outputs": [
    {
     "data": {
      "text/plain": [
       "CustomerID\n",
       "C1010011    4750.0\n",
       "C1010211    2209.0\n",
       "C1010245     300.0\n",
       "C1010249     263.0\n",
       "C1010266     449.0\n",
       "C1010425     658.0\n",
       "C1010461    1000.0\n",
       "C1010864     500.0\n",
       "C1010876    1054.0\n",
       "C1010930     300.0\n",
       "Name: TransactionAMOUNT, dtype: float64"
      ]
     },
     "execution_count": 164,
     "metadata": {},
     "output_type": "execute_result"
    }
   ],
   "source": [
    "min_trans.head(10)"
   ]
  },
  {
   "cell_type": "code",
   "execution_count": 167,
   "id": "5e7c69be-6795-4e7d-8135-c5c5810dea6a",
   "metadata": {},
   "outputs": [],
   "source": [
    "max_trans=data.groupby('CustomerID')['TransactionAMOUNT'].sum().idxmax()"
   ]
  },
  {
   "cell_type": "code",
   "execution_count": 169,
   "id": "be58365a-147c-4415-befb-58fbd7601de5",
   "metadata": {},
   "outputs": [
    {
     "data": {
      "text/plain": [
       "'C7367184'"
      ]
     },
     "execution_count": 169,
     "metadata": {},
     "output_type": "execute_result"
    }
   ],
   "source": [
    "max_trans"
   ]
  },
  {
   "cell_type": "code",
   "execution_count": 171,
   "id": "ff28a120-77f2-4367-9929-677f331d95e0",
   "metadata": {},
   "outputs": [],
   "source": [
    "minx_trans=data.groupby('CustomerID')['TransactionAMOUNT'].sum().idxmin()"
   ]
  },
  {
   "cell_type": "code",
   "execution_count": 173,
   "id": "0973c2dc-e55f-48ec-96c5-8223fd5dfa94",
   "metadata": {},
   "outputs": [
    {
     "data": {
      "text/plain": [
       "'C1310279'"
      ]
     },
     "execution_count": 173,
     "metadata": {},
     "output_type": "execute_result"
    }
   ],
   "source": [
    "minx_trans"
   ]
  },
  {
   "cell_type": "code",
   "execution_count": 179,
   "id": "8c071e2e-e867-432f-8175-9d11c903370c",
   "metadata": {},
   "outputs": [],
   "source": [
    "all=data.groupby('CustomerID')['TransactionAMOUNT'].agg(['count','max','min','sum'])"
   ]
  },
  {
   "cell_type": "code",
   "execution_count": 181,
   "id": "e7233c76-3080-4c33-bfe3-dac9dffb82a1",
   "metadata": {},
   "outputs": [
    {
     "data": {
      "text/html": [
       "<div>\n",
       "<style scoped>\n",
       "    .dataframe tbody tr th:only-of-type {\n",
       "        vertical-align: middle;\n",
       "    }\n",
       "\n",
       "    .dataframe tbody tr th {\n",
       "        vertical-align: top;\n",
       "    }\n",
       "\n",
       "    .dataframe thead th {\n",
       "        text-align: right;\n",
       "    }\n",
       "</style>\n",
       "<table border=\"1\" class=\"dataframe\">\n",
       "  <thead>\n",
       "    <tr style=\"text-align: right;\">\n",
       "      <th></th>\n",
       "      <th>count</th>\n",
       "      <th>max</th>\n",
       "      <th>min</th>\n",
       "      <th>sum</th>\n",
       "    </tr>\n",
       "    <tr>\n",
       "      <th>CustomerID</th>\n",
       "      <th></th>\n",
       "      <th></th>\n",
       "      <th></th>\n",
       "      <th></th>\n",
       "    </tr>\n",
       "  </thead>\n",
       "  <tbody>\n",
       "    <tr>\n",
       "      <th>C1010011</th>\n",
       "      <td>1</td>\n",
       "      <td>4750.00</td>\n",
       "      <td>4750.00</td>\n",
       "      <td>4750.00</td>\n",
       "    </tr>\n",
       "    <tr>\n",
       "      <th>C1010211</th>\n",
       "      <td>1</td>\n",
       "      <td>2209.00</td>\n",
       "      <td>2209.00</td>\n",
       "      <td>2209.00</td>\n",
       "    </tr>\n",
       "    <tr>\n",
       "      <th>C1010245</th>\n",
       "      <td>1</td>\n",
       "      <td>300.00</td>\n",
       "      <td>300.00</td>\n",
       "      <td>300.00</td>\n",
       "    </tr>\n",
       "    <tr>\n",
       "      <th>C1010249</th>\n",
       "      <td>1</td>\n",
       "      <td>263.00</td>\n",
       "      <td>263.00</td>\n",
       "      <td>263.00</td>\n",
       "    </tr>\n",
       "    <tr>\n",
       "      <th>C1010266</th>\n",
       "      <td>1</td>\n",
       "      <td>449.00</td>\n",
       "      <td>449.00</td>\n",
       "      <td>449.00</td>\n",
       "    </tr>\n",
       "    <tr>\n",
       "      <th>...</th>\n",
       "      <td>...</td>\n",
       "      <td>...</td>\n",
       "      <td>...</td>\n",
       "      <td>...</td>\n",
       "    </tr>\n",
       "    <tr>\n",
       "      <th>C9097335</th>\n",
       "      <td>1</td>\n",
       "      <td>374.88</td>\n",
       "      <td>374.88</td>\n",
       "      <td>374.88</td>\n",
       "    </tr>\n",
       "    <tr>\n",
       "      <th>C9098316</th>\n",
       "      <td>1</td>\n",
       "      <td>40.00</td>\n",
       "      <td>40.00</td>\n",
       "      <td>40.00</td>\n",
       "    </tr>\n",
       "    <tr>\n",
       "      <th>C9099255</th>\n",
       "      <td>1</td>\n",
       "      <td>240.00</td>\n",
       "      <td>240.00</td>\n",
       "      <td>240.00</td>\n",
       "    </tr>\n",
       "    <tr>\n",
       "      <th>C9099692</th>\n",
       "      <td>1</td>\n",
       "      <td>249.00</td>\n",
       "      <td>249.00</td>\n",
       "      <td>249.00</td>\n",
       "    </tr>\n",
       "    <tr>\n",
       "      <th>C9099956</th>\n",
       "      <td>1</td>\n",
       "      <td>855.00</td>\n",
       "      <td>855.00</td>\n",
       "      <td>855.00</td>\n",
       "    </tr>\n",
       "  </tbody>\n",
       "</table>\n",
       "<p>34914 rows × 4 columns</p>\n",
       "</div>"
      ],
      "text/plain": [
       "            count      max      min      sum\n",
       "CustomerID                                  \n",
       "C1010011        1  4750.00  4750.00  4750.00\n",
       "C1010211        1  2209.00  2209.00  2209.00\n",
       "C1010245        1   300.00   300.00   300.00\n",
       "C1010249        1   263.00   263.00   263.00\n",
       "C1010266        1   449.00   449.00   449.00\n",
       "...           ...      ...      ...      ...\n",
       "C9097335        1   374.88   374.88   374.88\n",
       "C9098316        1    40.00    40.00    40.00\n",
       "C9099255        1   240.00   240.00   240.00\n",
       "C9099692        1   249.00   249.00   249.00\n",
       "C9099956        1   855.00   855.00   855.00\n",
       "\n",
       "[34914 rows x 4 columns]"
      ]
     },
     "execution_count": 181,
     "metadata": {},
     "output_type": "execute_result"
    }
   ],
   "source": [
    "all"
   ]
  },
  {
   "cell_type": "code",
   "execution_count": 183,
   "id": "f52ce4fb-0af2-4a90-a8ec-e0b7ed4b37ce",
   "metadata": {},
   "outputs": [],
   "source": [
    "all.to_csv('C:/Users/enaam/OneDrive/Desktop/PYTHON/NEW.csv')"
   ]
  },
  {
   "cell_type": "markdown",
   "id": "f8a0aed6-4adb-4663-9b8e-99a382bd7f08",
   "metadata": {},
   "source": [
    "21- transformation "
   ]
  },
  {
   "cell_type": "code",
   "execution_count": 186,
   "id": "aa8a7814-edc6-4bd2-9d29-d08ab5900512",
   "metadata": {},
   "outputs": [
    {
     "data": {
      "text/plain": [
       "TransactionID                   object\n",
       "CustomerID                      object\n",
       "CustomerDOB                     object\n",
       "CusGender                       object\n",
       "CustLocation                    object\n",
       " CustAccountBalance             object\n",
       "TransactionDate         datetime64[ns]\n",
       "TransactionTime                 object\n",
       "TransactionAMOUNT              float64\n",
       "dtype: object"
      ]
     },
     "execution_count": 186,
     "metadata": {},
     "output_type": "execute_result"
    }
   ],
   "source": [
    "data.dtypes"
   ]
  },
  {
   "cell_type": "code",
   "execution_count": 198,
   "id": "60f2ad86-001e-467e-844a-6cc357a7a997",
   "metadata": {},
   "outputs": [],
   "source": [
    "data['new_column_date']= pd .to_datetime(data['TransactionDate'],format =\"%y,%m,%d\")"
   ]
  },
  {
   "cell_type": "code",
   "execution_count": 200,
   "id": "8cacae20-f2d4-412b-8fd4-efc1b2618873",
   "metadata": {},
   "outputs": [
    {
     "data": {
      "text/plain": [
       "0       2016-08-02\n",
       "1       2016-08-02\n",
       "2       2016-08-02\n",
       "3       2016-08-02\n",
       "4       2016-08-02\n",
       "           ...    \n",
       "35123          NaT\n",
       "35124          NaT\n",
       "35125          NaT\n",
       "35126          NaT\n",
       "35127          NaT\n",
       "Name: new_column_date, Length: 35128, dtype: datetime64[ns]"
      ]
     },
     "execution_count": 200,
     "metadata": {},
     "output_type": "execute_result"
    }
   ],
   "source": [
    "data['new_column_date']"
   ]
  },
  {
   "cell_type": "code",
   "execution_count": 202,
   "id": "0f4895c4-76c6-4695-b8c7-de084492a37a",
   "metadata": {},
   "outputs": [
    {
     "data": {
      "text/html": [
       "<div>\n",
       "<style scoped>\n",
       "    .dataframe tbody tr th:only-of-type {\n",
       "        vertical-align: middle;\n",
       "    }\n",
       "\n",
       "    .dataframe tbody tr th {\n",
       "        vertical-align: top;\n",
       "    }\n",
       "\n",
       "    .dataframe thead th {\n",
       "        text-align: right;\n",
       "    }\n",
       "</style>\n",
       "<table border=\"1\" class=\"dataframe\">\n",
       "  <thead>\n",
       "    <tr style=\"text-align: right;\">\n",
       "      <th></th>\n",
       "      <th>TransactionID</th>\n",
       "      <th>CustomerID</th>\n",
       "      <th>CustomerDOB</th>\n",
       "      <th>CusGender</th>\n",
       "      <th>CustLocation</th>\n",
       "      <th>CustAccountBalance</th>\n",
       "      <th>TransactionDate</th>\n",
       "      <th>TransactionTime</th>\n",
       "      <th>TransactionAMOUNT</th>\n",
       "      <th>new_column_date</th>\n",
       "    </tr>\n",
       "  </thead>\n",
       "  <tbody>\n",
       "    <tr>\n",
       "      <th>0</th>\n",
       "      <td>T1</td>\n",
       "      <td>C5841053</td>\n",
       "      <td>10/1/1994</td>\n",
       "      <td>F</td>\n",
       "      <td>JAMSHEDPUR</td>\n",
       "      <td>17819.05</td>\n",
       "      <td>2016-08-02</td>\n",
       "      <td>12:00:00 AM</td>\n",
       "      <td>25.0</td>\n",
       "      <td>2016-08-02</td>\n",
       "    </tr>\n",
       "    <tr>\n",
       "      <th>1</th>\n",
       "      <td>T2</td>\n",
       "      <td>C2142763</td>\n",
       "      <td>4/4/1957</td>\n",
       "      <td>M</td>\n",
       "      <td>JHAJJAR</td>\n",
       "      <td>2270.69</td>\n",
       "      <td>2016-08-02</td>\n",
       "      <td>12:00:00 AM</td>\n",
       "      <td>27999.0</td>\n",
       "      <td>2016-08-02</td>\n",
       "    </tr>\n",
       "    <tr>\n",
       "      <th>2</th>\n",
       "      <td>T3</td>\n",
       "      <td>C4417068</td>\n",
       "      <td>26/11/1996</td>\n",
       "      <td>F</td>\n",
       "      <td>MUMBAI</td>\n",
       "      <td>17874.44</td>\n",
       "      <td>2016-08-02</td>\n",
       "      <td>12:00:00 AM</td>\n",
       "      <td>459.0</td>\n",
       "      <td>2016-08-02</td>\n",
       "    </tr>\n",
       "    <tr>\n",
       "      <th>3</th>\n",
       "      <td>T4</td>\n",
       "      <td>C5342380</td>\n",
       "      <td>14/09/1973</td>\n",
       "      <td>F</td>\n",
       "      <td>MUMBAI</td>\n",
       "      <td>866503.21</td>\n",
       "      <td>2016-08-02</td>\n",
       "      <td>12:00:00 AM</td>\n",
       "      <td>2060.0</td>\n",
       "      <td>2016-08-02</td>\n",
       "    </tr>\n",
       "    <tr>\n",
       "      <th>4</th>\n",
       "      <td>T5</td>\n",
       "      <td>C9031234</td>\n",
       "      <td>24/03/1988</td>\n",
       "      <td>F</td>\n",
       "      <td>NAVI MUMBAI</td>\n",
       "      <td>6714.43</td>\n",
       "      <td>2016-08-02</td>\n",
       "      <td>12:00:00 AM</td>\n",
       "      <td>1762.5</td>\n",
       "      <td>2016-08-02</td>\n",
       "    </tr>\n",
       "    <tr>\n",
       "      <th>...</th>\n",
       "      <td>...</td>\n",
       "      <td>...</td>\n",
       "      <td>...</td>\n",
       "      <td>...</td>\n",
       "      <td>...</td>\n",
       "      <td>...</td>\n",
       "      <td>...</td>\n",
       "      <td>...</td>\n",
       "      <td>...</td>\n",
       "      <td>...</td>\n",
       "    </tr>\n",
       "    <tr>\n",
       "      <th>35123</th>\n",
       "      <td>T35124</td>\n",
       "      <td>C5923939</td>\n",
       "      <td>20/07/1990</td>\n",
       "      <td>M</td>\n",
       "      <td>NOIDA</td>\n",
       "      <td>214.39</td>\n",
       "      <td>NaT</td>\n",
       "      <td>12:00:00 AM</td>\n",
       "      <td>102.0</td>\n",
       "      <td>NaT</td>\n",
       "    </tr>\n",
       "    <tr>\n",
       "      <th>35124</th>\n",
       "      <td>T35125</td>\n",
       "      <td>C5642844</td>\n",
       "      <td>4/11/1989</td>\n",
       "      <td>F</td>\n",
       "      <td>THIRUVANANTHAPURAM</td>\n",
       "      <td>219310.56</td>\n",
       "      <td>NaT</td>\n",
       "      <td>12:00:00 AM</td>\n",
       "      <td>170.0</td>\n",
       "      <td>NaT</td>\n",
       "    </tr>\n",
       "    <tr>\n",
       "      <th>35125</th>\n",
       "      <td>T35126</td>\n",
       "      <td>C4342918</td>\n",
       "      <td>13/04/1993</td>\n",
       "      <td>M</td>\n",
       "      <td>JAMNAGAR</td>\n",
       "      <td>359.01</td>\n",
       "      <td>NaT</td>\n",
       "      <td>12:00:00 AM</td>\n",
       "      <td>2639.0</td>\n",
       "      <td>NaT</td>\n",
       "    </tr>\n",
       "    <tr>\n",
       "      <th>35126</th>\n",
       "      <td>T35127</td>\n",
       "      <td>C5329273</td>\n",
       "      <td>18/06/1988</td>\n",
       "      <td>F</td>\n",
       "      <td>LUCKNOW</td>\n",
       "      <td>52524.61</td>\n",
       "      <td>NaT</td>\n",
       "      <td>12:00:00 AM</td>\n",
       "      <td>163.0</td>\n",
       "      <td>NaT</td>\n",
       "    </tr>\n",
       "    <tr>\n",
       "      <th>35127</th>\n",
       "      <td>T35128</td>\n",
       "      <td>C6714728</td>\n",
       "      <td>Oct-00</td>\n",
       "      <td>NaN</td>\n",
       "      <td>NaN</td>\n",
       "      <td>NaN</td>\n",
       "      <td>NaT</td>\n",
       "      <td>NaN</td>\n",
       "      <td>NaN</td>\n",
       "      <td>NaT</td>\n",
       "    </tr>\n",
       "  </tbody>\n",
       "</table>\n",
       "<p>35128 rows × 10 columns</p>\n",
       "</div>"
      ],
      "text/plain": [
       "      TransactionID CustomerID CustomerDOB CusGender        CustLocation  \\\n",
       "0                T1   C5841053   10/1/1994         F          JAMSHEDPUR   \n",
       "1                T2   C2142763    4/4/1957         M             JHAJJAR   \n",
       "2                T3   C4417068  26/11/1996         F              MUMBAI   \n",
       "3                T4   C5342380  14/09/1973         F              MUMBAI   \n",
       "4                T5   C9031234  24/03/1988         F         NAVI MUMBAI   \n",
       "...             ...        ...         ...       ...                 ...   \n",
       "35123        T35124   C5923939  20/07/1990         M               NOIDA   \n",
       "35124        T35125   C5642844   4/11/1989         F  THIRUVANANTHAPURAM   \n",
       "35125        T35126   C4342918  13/04/1993         M            JAMNAGAR   \n",
       "35126        T35127   C5329273  18/06/1988         F             LUCKNOW   \n",
       "35127        T35128   C6714728      Oct-00       NaN                 NaN   \n",
       "\n",
       "       CustAccountBalance  TransactionDate TransactionTime  TransactionAMOUNT  \\\n",
       "0                17819.05       2016-08-02     12:00:00 AM               25.0   \n",
       "1                 2270.69       2016-08-02     12:00:00 AM            27999.0   \n",
       "2                17874.44       2016-08-02     12:00:00 AM              459.0   \n",
       "3               866503.21       2016-08-02     12:00:00 AM             2060.0   \n",
       "4                 6714.43       2016-08-02     12:00:00 AM             1762.5   \n",
       "...                    ...             ...             ...                ...   \n",
       "35123              214.39              NaT     12:00:00 AM              102.0   \n",
       "35124           219310.56              NaT     12:00:00 AM              170.0   \n",
       "35125              359.01              NaT     12:00:00 AM             2639.0   \n",
       "35126            52524.61              NaT     12:00:00 AM              163.0   \n",
       "35127                  NaN             NaT             NaN                NaN   \n",
       "\n",
       "      new_column_date  \n",
       "0          2016-08-02  \n",
       "1          2016-08-02  \n",
       "2          2016-08-02  \n",
       "3          2016-08-02  \n",
       "4          2016-08-02  \n",
       "...               ...  \n",
       "35123             NaT  \n",
       "35124             NaT  \n",
       "35125             NaT  \n",
       "35126             NaT  \n",
       "35127             NaT  \n",
       "\n",
       "[35128 rows x 10 columns]"
      ]
     },
     "execution_count": 202,
     "metadata": {},
     "output_type": "execute_result"
    }
   ],
   "source": [
    "data"
   ]
  },
  {
   "cell_type": "markdown",
   "id": "36dab808-3161-4b05-8add-526842411374",
   "metadata": {},
   "source": [
    "22-procssing"
   ]
  },
  {
   "cell_type": "code",
   "execution_count": 205,
   "id": "3b467d78-2e42-4d09-9d37-d8c21b988db3",
   "metadata": {},
   "outputs": [
    {
     "data": {
      "text/plain": [
       "TransactionID               0\n",
       "CustomerID                  0\n",
       "CustomerDOB               151\n",
       "CusGender                  25\n",
       "CustLocation                3\n",
       " CustAccountBalance        39\n",
       "TransactionDate         34862\n",
       "TransactionTime             1\n",
       "TransactionAMOUNT           1\n",
       "new_column_date         34862\n",
       "dtype: int64"
      ]
     },
     "execution_count": 205,
     "metadata": {},
     "output_type": "execute_result"
    }
   ],
   "source": [
    "data.isnull().sum()"
   ]
  },
  {
   "cell_type": "code",
   "execution_count": 218,
   "id": "b85c2d0f-611d-40c9-9284-849f166bb332",
   "metadata": {},
   "outputs": [],
   "source": [
    "data['CustLocation'].fillna('known',inplace=True)"
   ]
  },
  {
   "cell_type": "code",
   "execution_count": 220,
   "id": "25763c92-4bc0-4456-9253-a56207043d68",
   "metadata": {},
   "outputs": [
    {
     "data": {
      "text/plain": [
       "TransactionID               0\n",
       "CustomerID                  0\n",
       "CustomerDOB               151\n",
       "CusGender                  25\n",
       "CustLocation                0\n",
       " CustAccountBalance        39\n",
       "TransactionDate         34862\n",
       "TransactionTime             1\n",
       "TransactionAMOUNT           1\n",
       "new_column_date         34862\n",
       "dtype: int64"
      ]
     },
     "execution_count": 220,
     "metadata": {},
     "output_type": "execute_result"
    }
   ],
   "source": [
    "data.isnull().sum()"
   ]
  },
  {
   "cell_type": "code",
   "execution_count": 235,
   "id": "2bd4877d-4961-4dcd-9540-91d5ded47f1f",
   "metadata": {},
   "outputs": [],
   "source": [
    "data['CusGender'].replace({'F':\"Famale\",\"M\":\"Male\"},inplace=True)"
   ]
  },
  {
   "cell_type": "code",
   "execution_count": 237,
   "id": "9bd730d0-44df-47f4-9a83-e3d993841ee2",
   "metadata": {},
   "outputs": [
    {
     "data": {
      "text/plain": [
       "0        Famale\n",
       "1          Male\n",
       "2        Famale\n",
       "3        Famale\n",
       "4        Famale\n",
       "          ...  \n",
       "35123      Male\n",
       "35124    Famale\n",
       "35125      Male\n",
       "35126    Famale\n",
       "35127       NaN\n",
       "Name: CusGender, Length: 35128, dtype: object"
      ]
     },
     "execution_count": 237,
     "metadata": {},
     "output_type": "execute_result"
    }
   ],
   "source": [
    "data['CusGender']"
   ]
  },
  {
   "cell_type": "code",
   "execution_count": 241,
   "id": "5ed7a52e-1b31-4d0c-b1f8-d9c3c23b5271",
   "metadata": {},
   "outputs": [
    {
     "data": {
      "text/plain": [
       "TransactionID                   object\n",
       "CustomerID                      object\n",
       "CustomerDOB                     object\n",
       "CusGender                       object\n",
       "CustLocation                    object\n",
       " CustAccountBalance             object\n",
       "TransactionDate         datetime64[ns]\n",
       "TransactionTime                 object\n",
       "TransactionAMOUNT              float64\n",
       "new_column_date         datetime64[ns]\n",
       "dtype: object"
      ]
     },
     "execution_count": 241,
     "metadata": {},
     "output_type": "execute_result"
    }
   ],
   "source": [
    "data.dtypes"
   ]
  },
  {
   "cell_type": "code",
   "execution_count": 261,
   "id": "970197eb-716a-44b9-9a80-e10e0734b9ae",
   "metadata": {},
   "outputs": [
    {
     "ename": "IntCastingNaNError",
     "evalue": "Cannot convert non-finite values (NA or inf) to integer",
     "output_type": "error",
     "traceback": [
      "\u001b[1;31m---------------------------------------------------------------------------\u001b[0m",
      "\u001b[1;31mIntCastingNaNError\u001b[0m                        Traceback (most recent call last)",
      "Cell \u001b[1;32mIn[261], line 1\u001b[0m\n\u001b[1;32m----> 1\u001b[0m data[\u001b[38;5;124m'\u001b[39m\u001b[38;5;124mTransactionAMOUNT\u001b[39m\u001b[38;5;124m'\u001b[39m ] \u001b[38;5;241m=\u001b[39m data[\u001b[38;5;124m'\u001b[39m\u001b[38;5;124mTransactionAMOUNT\u001b[39m\u001b[38;5;124m'\u001b[39m]\u001b[38;5;241m.\u001b[39mastype(\u001b[38;5;28mint\u001b[39m)\n",
      "File \u001b[1;32m~\\anaconda3\\Lib\\site-packages\\pandas\\core\\generic.py:6643\u001b[0m, in \u001b[0;36mNDFrame.astype\u001b[1;34m(self, dtype, copy, errors)\u001b[0m\n\u001b[0;32m   6637\u001b[0m     results \u001b[38;5;241m=\u001b[39m [\n\u001b[0;32m   6638\u001b[0m         ser\u001b[38;5;241m.\u001b[39mastype(dtype, copy\u001b[38;5;241m=\u001b[39mcopy, errors\u001b[38;5;241m=\u001b[39merrors) \u001b[38;5;28;01mfor\u001b[39;00m _, ser \u001b[38;5;129;01min\u001b[39;00m \u001b[38;5;28mself\u001b[39m\u001b[38;5;241m.\u001b[39mitems()\n\u001b[0;32m   6639\u001b[0m     ]\n\u001b[0;32m   6641\u001b[0m \u001b[38;5;28;01melse\u001b[39;00m:\n\u001b[0;32m   6642\u001b[0m     \u001b[38;5;66;03m# else, only a single dtype is given\u001b[39;00m\n\u001b[1;32m-> 6643\u001b[0m     new_data \u001b[38;5;241m=\u001b[39m \u001b[38;5;28mself\u001b[39m\u001b[38;5;241m.\u001b[39m_mgr\u001b[38;5;241m.\u001b[39mastype(dtype\u001b[38;5;241m=\u001b[39mdtype, copy\u001b[38;5;241m=\u001b[39mcopy, errors\u001b[38;5;241m=\u001b[39merrors)\n\u001b[0;32m   6644\u001b[0m     res \u001b[38;5;241m=\u001b[39m \u001b[38;5;28mself\u001b[39m\u001b[38;5;241m.\u001b[39m_constructor_from_mgr(new_data, axes\u001b[38;5;241m=\u001b[39mnew_data\u001b[38;5;241m.\u001b[39maxes)\n\u001b[0;32m   6645\u001b[0m     \u001b[38;5;28;01mreturn\u001b[39;00m res\u001b[38;5;241m.\u001b[39m__finalize__(\u001b[38;5;28mself\u001b[39m, method\u001b[38;5;241m=\u001b[39m\u001b[38;5;124m\"\u001b[39m\u001b[38;5;124mastype\u001b[39m\u001b[38;5;124m\"\u001b[39m)\n",
      "File \u001b[1;32m~\\anaconda3\\Lib\\site-packages\\pandas\\core\\internals\\managers.py:430\u001b[0m, in \u001b[0;36mBaseBlockManager.astype\u001b[1;34m(self, dtype, copy, errors)\u001b[0m\n\u001b[0;32m    427\u001b[0m \u001b[38;5;28;01melif\u001b[39;00m using_copy_on_write():\n\u001b[0;32m    428\u001b[0m     copy \u001b[38;5;241m=\u001b[39m \u001b[38;5;28;01mFalse\u001b[39;00m\n\u001b[1;32m--> 430\u001b[0m \u001b[38;5;28;01mreturn\u001b[39;00m \u001b[38;5;28mself\u001b[39m\u001b[38;5;241m.\u001b[39mapply(\n\u001b[0;32m    431\u001b[0m     \u001b[38;5;124m\"\u001b[39m\u001b[38;5;124mastype\u001b[39m\u001b[38;5;124m\"\u001b[39m,\n\u001b[0;32m    432\u001b[0m     dtype\u001b[38;5;241m=\u001b[39mdtype,\n\u001b[0;32m    433\u001b[0m     copy\u001b[38;5;241m=\u001b[39mcopy,\n\u001b[0;32m    434\u001b[0m     errors\u001b[38;5;241m=\u001b[39merrors,\n\u001b[0;32m    435\u001b[0m     using_cow\u001b[38;5;241m=\u001b[39musing_copy_on_write(),\n\u001b[0;32m    436\u001b[0m )\n",
      "File \u001b[1;32m~\\anaconda3\\Lib\\site-packages\\pandas\\core\\internals\\managers.py:363\u001b[0m, in \u001b[0;36mBaseBlockManager.apply\u001b[1;34m(self, f, align_keys, **kwargs)\u001b[0m\n\u001b[0;32m    361\u001b[0m         applied \u001b[38;5;241m=\u001b[39m b\u001b[38;5;241m.\u001b[39mapply(f, \u001b[38;5;241m*\u001b[39m\u001b[38;5;241m*\u001b[39mkwargs)\n\u001b[0;32m    362\u001b[0m     \u001b[38;5;28;01melse\u001b[39;00m:\n\u001b[1;32m--> 363\u001b[0m         applied \u001b[38;5;241m=\u001b[39m \u001b[38;5;28mgetattr\u001b[39m(b, f)(\u001b[38;5;241m*\u001b[39m\u001b[38;5;241m*\u001b[39mkwargs)\n\u001b[0;32m    364\u001b[0m     result_blocks \u001b[38;5;241m=\u001b[39m extend_blocks(applied, result_blocks)\n\u001b[0;32m    366\u001b[0m out \u001b[38;5;241m=\u001b[39m \u001b[38;5;28mtype\u001b[39m(\u001b[38;5;28mself\u001b[39m)\u001b[38;5;241m.\u001b[39mfrom_blocks(result_blocks, \u001b[38;5;28mself\u001b[39m\u001b[38;5;241m.\u001b[39maxes)\n",
      "File \u001b[1;32m~\\anaconda3\\Lib\\site-packages\\pandas\\core\\internals\\blocks.py:758\u001b[0m, in \u001b[0;36mBlock.astype\u001b[1;34m(self, dtype, copy, errors, using_cow, squeeze)\u001b[0m\n\u001b[0;32m    755\u001b[0m         \u001b[38;5;28;01mraise\u001b[39;00m \u001b[38;5;167;01mValueError\u001b[39;00m(\u001b[38;5;124m\"\u001b[39m\u001b[38;5;124mCan not squeeze with more than one column.\u001b[39m\u001b[38;5;124m\"\u001b[39m)\n\u001b[0;32m    756\u001b[0m     values \u001b[38;5;241m=\u001b[39m values[\u001b[38;5;241m0\u001b[39m, :]  \u001b[38;5;66;03m# type: ignore[call-overload]\u001b[39;00m\n\u001b[1;32m--> 758\u001b[0m new_values \u001b[38;5;241m=\u001b[39m astype_array_safe(values, dtype, copy\u001b[38;5;241m=\u001b[39mcopy, errors\u001b[38;5;241m=\u001b[39merrors)\n\u001b[0;32m    760\u001b[0m new_values \u001b[38;5;241m=\u001b[39m maybe_coerce_values(new_values)\n\u001b[0;32m    762\u001b[0m refs \u001b[38;5;241m=\u001b[39m \u001b[38;5;28;01mNone\u001b[39;00m\n",
      "File \u001b[1;32m~\\anaconda3\\Lib\\site-packages\\pandas\\core\\dtypes\\astype.py:237\u001b[0m, in \u001b[0;36mastype_array_safe\u001b[1;34m(values, dtype, copy, errors)\u001b[0m\n\u001b[0;32m    234\u001b[0m     dtype \u001b[38;5;241m=\u001b[39m dtype\u001b[38;5;241m.\u001b[39mnumpy_dtype\n\u001b[0;32m    236\u001b[0m \u001b[38;5;28;01mtry\u001b[39;00m:\n\u001b[1;32m--> 237\u001b[0m     new_values \u001b[38;5;241m=\u001b[39m astype_array(values, dtype, copy\u001b[38;5;241m=\u001b[39mcopy)\n\u001b[0;32m    238\u001b[0m \u001b[38;5;28;01mexcept\u001b[39;00m (\u001b[38;5;167;01mValueError\u001b[39;00m, \u001b[38;5;167;01mTypeError\u001b[39;00m):\n\u001b[0;32m    239\u001b[0m     \u001b[38;5;66;03m# e.g. _astype_nansafe can fail on object-dtype of strings\u001b[39;00m\n\u001b[0;32m    240\u001b[0m     \u001b[38;5;66;03m#  trying to convert to float\u001b[39;00m\n\u001b[0;32m    241\u001b[0m     \u001b[38;5;28;01mif\u001b[39;00m errors \u001b[38;5;241m==\u001b[39m \u001b[38;5;124m\"\u001b[39m\u001b[38;5;124mignore\u001b[39m\u001b[38;5;124m\"\u001b[39m:\n",
      "File \u001b[1;32m~\\anaconda3\\Lib\\site-packages\\pandas\\core\\dtypes\\astype.py:182\u001b[0m, in \u001b[0;36mastype_array\u001b[1;34m(values, dtype, copy)\u001b[0m\n\u001b[0;32m    179\u001b[0m     values \u001b[38;5;241m=\u001b[39m values\u001b[38;5;241m.\u001b[39mastype(dtype, copy\u001b[38;5;241m=\u001b[39mcopy)\n\u001b[0;32m    181\u001b[0m \u001b[38;5;28;01melse\u001b[39;00m:\n\u001b[1;32m--> 182\u001b[0m     values \u001b[38;5;241m=\u001b[39m _astype_nansafe(values, dtype, copy\u001b[38;5;241m=\u001b[39mcopy)\n\u001b[0;32m    184\u001b[0m \u001b[38;5;66;03m# in pandas we don't store numpy str dtypes, so convert to object\u001b[39;00m\n\u001b[0;32m    185\u001b[0m \u001b[38;5;28;01mif\u001b[39;00m \u001b[38;5;28misinstance\u001b[39m(dtype, np\u001b[38;5;241m.\u001b[39mdtype) \u001b[38;5;129;01mand\u001b[39;00m \u001b[38;5;28missubclass\u001b[39m(values\u001b[38;5;241m.\u001b[39mdtype\u001b[38;5;241m.\u001b[39mtype, \u001b[38;5;28mstr\u001b[39m):\n",
      "File \u001b[1;32m~\\anaconda3\\Lib\\site-packages\\pandas\\core\\dtypes\\astype.py:101\u001b[0m, in \u001b[0;36m_astype_nansafe\u001b[1;34m(arr, dtype, copy, skipna)\u001b[0m\n\u001b[0;32m     96\u001b[0m     \u001b[38;5;28;01mreturn\u001b[39;00m lib\u001b[38;5;241m.\u001b[39mensure_string_array(\n\u001b[0;32m     97\u001b[0m         arr, skipna\u001b[38;5;241m=\u001b[39mskipna, convert_na_value\u001b[38;5;241m=\u001b[39m\u001b[38;5;28;01mFalse\u001b[39;00m\n\u001b[0;32m     98\u001b[0m     )\u001b[38;5;241m.\u001b[39mreshape(shape)\n\u001b[0;32m    100\u001b[0m \u001b[38;5;28;01melif\u001b[39;00m np\u001b[38;5;241m.\u001b[39missubdtype(arr\u001b[38;5;241m.\u001b[39mdtype, np\u001b[38;5;241m.\u001b[39mfloating) \u001b[38;5;129;01mand\u001b[39;00m dtype\u001b[38;5;241m.\u001b[39mkind \u001b[38;5;129;01min\u001b[39;00m \u001b[38;5;124m\"\u001b[39m\u001b[38;5;124miu\u001b[39m\u001b[38;5;124m\"\u001b[39m:\n\u001b[1;32m--> 101\u001b[0m     \u001b[38;5;28;01mreturn\u001b[39;00m _astype_float_to_int_nansafe(arr, dtype, copy)\n\u001b[0;32m    103\u001b[0m \u001b[38;5;28;01melif\u001b[39;00m arr\u001b[38;5;241m.\u001b[39mdtype \u001b[38;5;241m==\u001b[39m \u001b[38;5;28mobject\u001b[39m:\n\u001b[0;32m    104\u001b[0m     \u001b[38;5;66;03m# if we have a datetime/timedelta array of objects\u001b[39;00m\n\u001b[0;32m    105\u001b[0m     \u001b[38;5;66;03m# then coerce to datetime64[ns] and use DatetimeArray.astype\u001b[39;00m\n\u001b[0;32m    107\u001b[0m     \u001b[38;5;28;01mif\u001b[39;00m lib\u001b[38;5;241m.\u001b[39mis_np_dtype(dtype, \u001b[38;5;124m\"\u001b[39m\u001b[38;5;124mM\u001b[39m\u001b[38;5;124m\"\u001b[39m):\n",
      "File \u001b[1;32m~\\anaconda3\\Lib\\site-packages\\pandas\\core\\dtypes\\astype.py:145\u001b[0m, in \u001b[0;36m_astype_float_to_int_nansafe\u001b[1;34m(values, dtype, copy)\u001b[0m\n\u001b[0;32m    141\u001b[0m \u001b[38;5;250m\u001b[39m\u001b[38;5;124;03m\"\"\"\u001b[39;00m\n\u001b[0;32m    142\u001b[0m \u001b[38;5;124;03mastype with a check preventing converting NaN to an meaningless integer value.\u001b[39;00m\n\u001b[0;32m    143\u001b[0m \u001b[38;5;124;03m\"\"\"\u001b[39;00m\n\u001b[0;32m    144\u001b[0m \u001b[38;5;28;01mif\u001b[39;00m \u001b[38;5;129;01mnot\u001b[39;00m np\u001b[38;5;241m.\u001b[39misfinite(values)\u001b[38;5;241m.\u001b[39mall():\n\u001b[1;32m--> 145\u001b[0m     \u001b[38;5;28;01mraise\u001b[39;00m IntCastingNaNError(\n\u001b[0;32m    146\u001b[0m         \u001b[38;5;124m\"\u001b[39m\u001b[38;5;124mCannot convert non-finite values (NA or inf) to integer\u001b[39m\u001b[38;5;124m\"\u001b[39m\n\u001b[0;32m    147\u001b[0m     )\n\u001b[0;32m    148\u001b[0m \u001b[38;5;28;01mif\u001b[39;00m dtype\u001b[38;5;241m.\u001b[39mkind \u001b[38;5;241m==\u001b[39m \u001b[38;5;124m\"\u001b[39m\u001b[38;5;124mu\u001b[39m\u001b[38;5;124m\"\u001b[39m:\n\u001b[0;32m    149\u001b[0m     \u001b[38;5;66;03m# GH#45151\u001b[39;00m\n\u001b[0;32m    150\u001b[0m     \u001b[38;5;28;01mif\u001b[39;00m \u001b[38;5;129;01mnot\u001b[39;00m (values \u001b[38;5;241m>\u001b[39m\u001b[38;5;241m=\u001b[39m \u001b[38;5;241m0\u001b[39m)\u001b[38;5;241m.\u001b[39mall():\n",
      "\u001b[1;31mIntCastingNaNError\u001b[0m: Cannot convert non-finite values (NA or inf) to integer"
     ]
    }
   ],
   "source": [
    "data['TransactionAMOUNT' ] = data['TransactionAMOUNT'].astype(int)"
   ]
  },
  {
   "cell_type": "code",
   "execution_count": null,
   "id": "6c6b0466-c176-49ec-9816-2d213c23e7b4",
   "metadata": {},
   "outputs": [],
   "source": []
  }
 ],
 "metadata": {
  "kernelspec": {
   "display_name": "Python 3 (ipykernel)",
   "language": "python",
   "name": "python3"
  },
  "language_info": {
   "codemirror_mode": {
    "name": "ipython",
    "version": 3
   },
   "file_extension": ".py",
   "mimetype": "text/x-python",
   "name": "python",
   "nbconvert_exporter": "python",
   "pygments_lexer": "ipython3",
   "version": "3.12.4"
  }
 },
 "nbformat": 4,
 "nbformat_minor": 5
}
